{
  "nbformat": 4,
  "nbformat_minor": 0,
  "metadata": {
    "colab": {
      "provenance": [],
      "collapsed_sections": [
        "odTsb_9-MWgx",
        "3DDV303CMYQw",
        "lBZP_wzqMZ0g",
        "1JbAE6Zkh39x",
        "ehvp9Kc8Bgmh",
        "6JER5f5tjdXI"
      ],
      "toc_visible": true,
      "include_colab_link": true
    },
    "kernelspec": {
      "name": "python3",
      "display_name": "Python 3"
    }
  },
  "cells": [
    {
      "cell_type": "markdown",
      "metadata": {
        "id": "view-in-github",
        "colab_type": "text"
      },
      "source": [
        "<a href=\"https://colab.research.google.com/github/marisbotero/Python_I/blob/master/Taller_python.ipynb\" target=\"_parent\"><img src=\"https://colab.research.google.com/assets/colab-badge.svg\" alt=\"Open In Colab\"/></a>"
      ]
    },
    {
      "cell_type": "markdown",
      "metadata": {
        "id": "e_Z2CNutacuu"
      },
      "source": [
        "# Taller Python Sesión 2"
      ]
    },
    {
      "cell_type": "markdown",
      "metadata": {
        "id": "34onjbj1MNvB"
      },
      "source": [
        "# Funciones"
      ]
    },
    {
      "cell_type": "markdown",
      "metadata": {
        "id": "M6DmpAuk1U_y"
      },
      "source": [
        "Una función es un bloque organizado de código reutilizable. Las funciones otorgan  modularidad a una aplicación y un nivel de reusabilidad. Hay varios consejos que debe seguir una función:\n",
        "\n",
        "\n",
        "\n",
        "*   Las funciones deben ser lo más nucleares posibles: Una función debe realizar una sola tarea con un objetivo claro\n",
        "*   Cualquier código que se repita en tu programa es candidato de convertirse en una función.\n",
        "*   Las funciones deben ser descriptivas en su funcionamiento: El nombre de la función debe  dar una descripción aproximada de su funcionamiento.\n",
        "\n"
      ]
    },
    {
      "cell_type": "markdown",
      "metadata": {
        "id": "-ANJTuoA35iv"
      },
      "source": [
        "**Definición**\n",
        "\n",
        "Una función se define con la siguiente sintaxis en Python:\n",
        "\n",
        "\n",
        "1.   Los bloques de una función empiezan con la palabra reservada **def** seguida de paréntesis.\n",
        "2.   Cualquier parámetro o argumento debe declararse dentro de los paréntesis.\n",
        "3.   El bloque de la función se separa con los dos puntos **\" : \"** seguido de una identación.\n",
        "4.   La palabra reservada **return** termina la ejecución de una función devolviendo opcionalmente un valor.\n",
        "\n"
      ]
    },
    {
      "cell_type": "code",
      "metadata": {
        "id": "jED7oLqi4_SC"
      },
      "source": [
        "def function_example(parameter):\n",
        "  \"\"\"DocSttring\"\"\"\n",
        "  print(parameter)\n",
        "  return"
      ],
      "execution_count": null,
      "outputs": []
    },
    {
      "cell_type": "markdown",
      "metadata": {
        "id": "EmtYeksO5aGa"
      },
      "source": [
        "Aquí podemos ver un ejemplo de función, tiene un Docstring, que es documentación acerca de la función y sus parámetros, el cuerpo donde se ejecuta el código y luego la llamada de **return** para salir de la función.\n",
        "A partir de aquí una función podrá ser ejecutada tantas veces como se quiera al invocar una llamada a la función."
      ]
    },
    {
      "cell_type": "code",
      "metadata": {
        "id": "C0sGIg_l5V_g"
      },
      "source": [
        "function_example(\"Hola Mundo\")"
      ],
      "execution_count": null,
      "outputs": []
    },
    {
      "cell_type": "markdown",
      "metadata": {
        "id": "t5_jbapP6GCc"
      },
      "source": [
        "Se puede realizar tantas llamadas como sea necesario, cambiando el valor de los parámetros cuando se quiera."
      ]
    },
    {
      "cell_type": "code",
      "metadata": {
        "id": "bo3K5QUe6QJ-"
      },
      "source": [
        "function_example(\"Que tal estás\")"
      ],
      "execution_count": null,
      "outputs": []
    },
    {
      "cell_type": "markdown",
      "metadata": {
        "id": "78O0p3VIlXBs"
      },
      "source": [
        "## Parámetros por valor o por referencia"
      ]
    },
    {
      "cell_type": "markdown",
      "metadata": {
        "id": "krgSfFm1_Cnl"
      },
      "source": [
        "\n",
        "Todos los parámetros **de tipos no primitivos** en Python se pasan por referencia. Esto significa que si cambias el valor dentro de una función también cambiará fuera de ella, y es un error muy común que se comete en programación.\n",
        "\n",
        "Visualmente se puede diferenciar el paso de parámetros de valor y de referencia con este gif:\n",
        "\n",
        "![Value vs referenc](https://www.mathwarehouse.com/programming/images/pass-by-reference-vs-pass-by-value-animation.gif)\n",
        "\n",
        "Como podemos observar, al pasar por referencia, si cambiamos el valor interno en la función cambiará en la variable externa, en cambio si la cambiamos al pasar la variable por valor no cambia en la variable externa.\n",
        "\n",
        "Esto se puede ver también en código:"
      ]
    },
    {
      "cell_type": "code",
      "metadata": {
        "id": "gQWP-qNbM1sF"
      },
      "source": [
        "def empty_list(list):\n",
        "  list.clear()\n",
        "  print(f\"Dentro de empty_list: {list}\")"
      ],
      "execution_count": null,
      "outputs": []
    },
    {
      "cell_type": "code",
      "metadata": {
        "id": "6D7fZoVGNOp8"
      },
      "source": [
        "# Reference\n",
        "list_reference = [1,2,3]\n",
        "print(list_reference)\n",
        "empty_list(list_reference)\n",
        "print(list_reference)"
      ],
      "execution_count": null,
      "outputs": []
    },
    {
      "cell_type": "code",
      "metadata": {
        "id": "vT2v64nlNQ-R"
      },
      "source": [
        "# Value\n",
        "list_value = [1,2,3]\n",
        "print(list_value)\n",
        "empty_list(list_value.copy())\n",
        "print(list_value)"
      ],
      "execution_count": null,
      "outputs": []
    },
    {
      "cell_type": "markdown",
      "metadata": {
        "id": "QmIyU81UlfL8"
      },
      "source": [
        "## Parámetros"
      ]
    },
    {
      "cell_type": "markdown",
      "metadata": {
        "id": "dDRFHZ0dOS3m"
      },
      "source": [
        "\n",
        "En Python pueden utilizarse cuatro tipos de argumentos en una función:\n",
        "\n",
        "\n",
        "\n",
        "1.   Argumentos obligatorios\n",
        "2.   Argumentos por clave\n",
        "3.   Argumentos por defecto\n",
        "4.   Argumentos de longitud variable (simples o con clave/valor)\n",
        "\n",
        "Cada uno de ellos tiene una propiedad diferente.\n"
      ]
    },
    {
      "cell_type": "markdown",
      "metadata": {
        "id": "5ZLyuRAhPCZ9"
      },
      "source": [
        "**Argumentos obligatorios**\n",
        "\n",
        "Los argumentos obligatorios son aquellos que se pasan a una función en el orden correcto y con el número exacto de variables para argumentos."
      ]
    },
    {
      "cell_type": "code",
      "metadata": {
        "id": "Dt66os2uPVCx"
      },
      "source": [
        "def required_args(first, second, third):\n",
        "  print(first)\n",
        "  print(second)\n",
        "  print(third)\n",
        "  \n",
        "required_args(\"first\", \"2\", \"third\")"
      ],
      "execution_count": null,
      "outputs": []
    },
    {
      "cell_type": "code",
      "metadata": {
        "id": "Q9cbXxWTPrpG"
      },
      "source": [
        "# Will fail\n",
        "required_args()"
      ],
      "execution_count": null,
      "outputs": []
    },
    {
      "cell_type": "markdown",
      "metadata": {
        "id": "71S5fnoBPgv4"
      },
      "source": [
        "**Argumentos por clave**\n",
        "\n",
        "En python también puedes referenciar a un argumento por su nombre, pudiendo así cambiar el orden de llamada."
      ]
    },
    {
      "cell_type": "code",
      "metadata": {
        "id": "JSum1l9GY8KC"
      },
      "source": [
        "def keyword_args(first, second, third):\n",
        "  print(first)\n",
        "  print(second)\n",
        "  print(third)\n",
        "\n",
        "keyword_args(first=\"first\", third=\"third\", second=\"second\")"
      ],
      "execution_count": null,
      "outputs": []
    },
    {
      "cell_type": "markdown",
      "metadata": {
        "id": "gMliZSlWZJ_y"
      },
      "source": [
        "**Argumentos por defecto**\n",
        "\n",
        "Un argumento por defecto es un argumento que asume su valor por defecto, estos argumentos siempre van después de los argumentos por clave y pueden ser omitidos en la llamada a la función."
      ]
    },
    {
      "cell_type": "code",
      "metadata": {
        "id": "3WJVpPfhZXSk"
      },
      "source": [
        "def default_args(first, second, third=\"third\", fourth=\"4\"):\n",
        "  print(first)\n",
        "  print(second)\n",
        "  print(third)\n",
        "  print(fourth)\n",
        "  print(\"========\")\n",
        "\n",
        "# You can call the third value\n",
        "default_args(\"first\", \"second\", \"3\")\n",
        "\n",
        "# You can ommit the value\n",
        "default_args(\"first\", \"2\")\n",
        "\n",
        "# You can change the default value\n",
        "default_args(\"first\", \"second\", fourth=\"other\")"
      ],
      "execution_count": null,
      "outputs": []
    },
    {
      "cell_type": "markdown",
      "source": [
        "Podremos ver incluso objetos instanciados que se pasan como argumentos que a su vez tienen argumentos de iniciación:\n",
        "\n",
        "```python\n",
        "model = tf.keras.Sequential([\n",
        "  tf.keras.layers.Dense(units=1, input_shape=[1])\n",
        "])\n",
        "```"
      ],
      "metadata": {
        "id": "du6112dHKh59"
      }
    },
    {
      "cell_type": "markdown",
      "metadata": {
        "id": "m35pVP9oZw-p"
      },
      "source": [
        "**Argumentos de longitud variable**\n",
        "\n",
        "En algunas funciones encontraréis los parámetros \\*args y \\*\\*kwargs. Estas son palabras reservadas que al principio es difícil de comprender. Lo primero de todo es que el nombre args y kwargs no es necesario, solo los asteriscos, pero por convenio se usan esas palabras, se podría tener \\*var y \\*\\*vars pero no suele ser muy usual.\n",
        "\n",
        "Estas palabras se utilizan para pasar una cantidad variable de argumentos a una función sin saber con exactitud la cantidad exacta. En el caso de \\*args podemos ver su función en esta función:\n"
      ]
    },
    {
      "cell_type": "code",
      "metadata": {
        "id": "8OJEm5s-al-F"
      },
      "source": [
        "def test_var_args(f_arg, *argv):\n",
        "    print(f\"first normal arg: {f_arg}\")\n",
        "    print(argv)\n",
        "    for arg in argv:\n",
        "        print(f\"another arg through *argv : {arg}\")\n",
        "\n",
        "test_var_args('lucas','python','ML','test', '1', \"2\", \"3\")"
      ],
      "execution_count": null,
      "outputs": []
    },
    {
      "cell_type": "code",
      "metadata": {
        "id": "PSZqhP6BdTQG"
      },
      "source": [
        "def multiply(*argv):\n",
        "    z = 1\n",
        "    for num in argv:\n",
        "        z *= num\n",
        "    print(z)\n",
        "\n",
        "multiply(4, 5)\n",
        "multiply(10, 9)\n",
        "multiply(2, 3, 4)\n",
        "multiply(3, 5, 10, 6)\n",
        "multiply(3, 5, 10, 6, 34, 23, 34)"
      ],
      "execution_count": null,
      "outputs": []
    },
    {
      "cell_type": "markdown",
      "metadata": {
        "id": "9fg_o4Ada6S7"
      },
      "source": [
        "Por otra parte \\*\\*kwargs se usa para pasar parámetros de longitud variable con clave, esto puede usarse con múltiples fines, como por ejemplo para ejecutar instrucciones como una CLI."
      ]
    },
    {
      "cell_type": "code",
      "metadata": {
        "id": "_5RMp05qc0u_"
      },
      "source": [
        "def greet_me(**kwargs):\n",
        "    if kwargs is not None:\n",
        "        print(kwargs)\n",
        "        for key, value in kwargs.items():\n",
        "            print(f\"{key} --> {value}\")\n",
        " \n",
        "greet_me(name=\"lucas\", language=\"python\", area=\"ML\", context=\"test\", country=\"spain\")\n",
        "print(\"=============\")\n",
        "greet_me(name=\"lucas\", language=\"python\", area=\"ML\", context=\"test\", country=\"spain\", month=\"June\")\n"
      ],
      "execution_count": null,
      "outputs": []
    },
    {
      "cell_type": "markdown",
      "metadata": {
        "id": "sV4Bp7j9loTo"
      },
      "source": [
        "## Return"
      ]
    },
    {
      "cell_type": "markdown",
      "metadata": {
        "id": "X3u9rEV1ODCm"
      },
      "source": [
        "La palabra reservada **return** sirve para terminar una función y devolver una expresión a la linea de código que la ha llamado. Una función sin **return** es lo mismo que si devuelve None.\n",
        "\n",
        "Puede devolverse cualquier valor, y como mencionamos en el curso anterior, pueden **devolverse múltiple valores mediante tuplas.**"
      ]
    },
    {
      "cell_type": "code",
      "metadata": {
        "id": "2gKg5ozPd5Z8"
      },
      "source": [
        "def simple_sum(a, b):\n",
        "  return a + b\n",
        "\n",
        "result = simple_sum(4, 2)\n",
        "print(result)\n",
        "\n",
        "def return_none(a, b):\n",
        "  a + b\n",
        "result = return_none(2,3)\n",
        "print(result)\n",
        "\n",
        "\n",
        "def increment_two_values(a, b):\n",
        "  a += 1\n",
        "  b += 1\n",
        "  return a, b\n",
        "\n",
        "inc_1, inc_2 = increment_two_values(3, 5)\n",
        "tuple_test = increment_two_values(4, 8)\n",
        "print(f\"{inc_1} and {inc_2}\")\n",
        "print(tuple_test)\n"
      ],
      "execution_count": null,
      "outputs": []
    },
    {
      "cell_type": "markdown",
      "metadata": {
        "id": "9Yy_LkwWlrkm"
      },
      "source": [
        "## Variables globales vs Variable locales"
      ]
    },
    {
      "cell_type": "markdown",
      "metadata": {
        "id": "WOBx1Q_xOHBM"
      },
      "source": [
        "**Variables globales vs. Variables Locales**\n",
        "\n",
        "Todas las variables tienen un ámbito que puede depender de donde ha sido declarada una variable, así pueden existir variables globales, locales y contenidas. Esto se puede ver bien en el gráfico:\n",
        "\n",
        "![Scope](https://sebastianraschka.com/images/blog/2014/scope_resolution_legb_rule/scope_resolution_1.png)\n",
        "\n",
        "\n",
        "Sacando un ejemplo práctico podemos ver:"
      ]
    },
    {
      "cell_type": "code",
      "metadata": {
        "id": "Z0F0R05ef9ek"
      },
      "source": [
        "a_var = 'global value'\n",
        "print(a_var)\n",
        "\n",
        "def outer():\n",
        "    a_var = 'local value'\n",
        "    print('outer before:', a_var)\n",
        "    def inner():\n",
        "        nonlocal a_var\n",
        "        a_var = 'inner value'\n",
        "        print('in inner():', a_var)\n",
        "    inner()\n",
        "    print(\"outer after:\", a_var)\n",
        "outer()\n",
        "\n",
        "print(a_var)"
      ],
      "execution_count": null,
      "outputs": []
    },
    {
      "cell_type": "markdown",
      "metadata": {
        "id": "PuJNUiXHMQd9"
      },
      "source": [
        "## Funciones Avanzadas"
      ]
    },
    {
      "cell_type": "markdown",
      "metadata": {
        "id": "qpSRycIXaAkw"
      },
      "source": [
        "Vamos a entrar en un terreno más complicado y menos intuitivo. Aunque la sintaxis es sencilla una vez dominas el concepto puede que sea difícil entender la intencionalidad de las funciones lambda y anónimas.\n",
        "\n",
        "Hay que incidir en que este concepto se usa mucho en *Data Science* y hay muchos modelos de tensorflow que toman funciones anónimas como argumentos de otras para ejecutar una serie de pasos.\n",
        "\n",
        "Por ello es importante conocer al menos un poco de su funcionamiento y su finalidad"
      ]
    },
    {
      "cell_type": "markdown",
      "metadata": {
        "id": "LTaolLM5MTMG"
      },
      "source": [
        "### Funciones anónimas (Lambda)\n",
        "\n"
      ]
    },
    {
      "cell_type": "markdown",
      "metadata": {
        "id": "BgNh_Hrely61"
      },
      "source": [
        "\n",
        "Las funciones anónimas se llaman así ya que no se declaran con la palabra reservada **def**. No necesitan identación para declarar la funcionalidad y tienen una serie de características que las hacen muy especiales:\n",
        "\n",
        "\n",
        "\n",
        "*   Utilizan la palabra reservada **lambda** para declararse\n",
        "*   Pueden tener múltiples argumentos pero solo pueden devolver  un valor por expresión\n",
        "*   Una función anónima no puede llamarse directamente, ya que **lambda** necesita una expresión.\n",
        "*   Las funciones lambda tienen su propio *namespace* y no pueden acceder variables otras que las pasadas por argumentos.\n",
        "\n",
        "La sintaxis de una función lambda sería la siguiente:\n",
        "\n",
        "\n",
        "\n",
        "```\n",
        "lambda [arg1, arg2....]:expresion\n",
        "```\n",
        "\n",
        "\n",
        "Para comprender como funciona una función lambda primero vamos a ver una función sencilla:"
      ]
    },
    {
      "cell_type": "code",
      "metadata": {
        "id": "MpN3o1A2cZiX"
      },
      "source": [
        "def cube(x):\n",
        "  return x*x*x\n",
        "\n",
        "res = cube(7)\n",
        "print(res)"
      ],
      "execution_count": null,
      "outputs": []
    },
    {
      "cell_type": "markdown",
      "metadata": {
        "id": "dw1KWP92cnfG"
      },
      "source": [
        "Ahora vamos a representar esta misma función mediante **lambda**:"
      ]
    },
    {
      "cell_type": "code",
      "metadata": {
        "id": "9qnfp05icsUN"
      },
      "source": [
        "cub = lambda x: x*x*x\n",
        "res = cub(7)\n",
        "print(res)"
      ],
      "execution_count": null,
      "outputs": []
    },
    {
      "cell_type": "markdown",
      "metadata": {
        "id": "5dv73X-oc8zz"
      },
      "source": [
        "Como podemos observar la diferencia principal es que en una función estándar necesitamos declarar un nombre de función al que tendremos que referenciar cada vez que queramos ejecutar una función. Con **lambda** tendremos una función anónima que podremos asignar a una variable para ejecutarla posteriormente."
      ]
    },
    {
      "cell_type": "markdown",
      "metadata": {
        "id": "Nyz4M7OGdLkw"
      },
      "source": [
        "Ahora vamos a ver la verdadera potencia de las funciones anónimas, cuando usamos métodos de listas como **filter o map** usaremos **lambda** para poder declarar las transformaciones de una forma muy elegante.\n",
        "Así, si queremos un programa que elimine los números impares de una lista pasaremos de esto:"
      ]
    },
    {
      "cell_type": "code",
      "metadata": {
        "id": "hZr6GEKjdpNJ"
      },
      "source": [
        "li = [5, 7, 22, 97, 54, 62, 77, 23, 73, 61] \n",
        "def filter_list(lis):\n",
        "  new_list = []\n",
        "  for element in lis:\n",
        "    if(element%2 != 0):\n",
        "      new_list.append(element)\n",
        "  return new_list\n",
        "\n",
        "li_filtered = filter_list(li)\n",
        "print(li_filtered)"
      ],
      "execution_count": null,
      "outputs": []
    },
    {
      "cell_type": "markdown",
      "metadata": {
        "id": "IR1TaYH-eQr2"
      },
      "source": [
        "A una solución mucho más sencilla de leer:"
      ]
    },
    {
      "cell_type": "code",
      "metadata": {
        "id": "TYuiOzEDeTh7"
      },
      "source": [
        "li = [5, 7, 22, 97, 54, 62, 77, 23, 73, 61]\n",
        "li_filtered = list(filter(lambda x: (x%2 != 0), li)) # return lazy iterator convert to list\n",
        "print(li_filtered)"
      ],
      "execution_count": null,
      "outputs": []
    },
    {
      "cell_type": "markdown",
      "metadata": {
        "id": "1dsfSvrUe18L"
      },
      "source": [
        "Esta serie de operaciones, que pueden involucrar transformación, reducción o filtrado de matrices son esenciales en *Data Science* además, introducen una nueva dimensionalidad de **sintactic sugar** que permite al programador hacer más escribiendo menos."
      ]
    },
    {
      "cell_type": "markdown",
      "metadata": {
        "id": "odTsb_9-MWgx"
      },
      "source": [
        "# Gestión de módulos"
      ]
    },
    {
      "cell_type": "markdown",
      "metadata": {
        "id": "VpeEpgUOfRyt"
      },
      "source": [
        "Un módulo permite organizar de forma lógica el código en Python. A medida que va aumentando en complejidad el proyecto las líneas de código pueden crecer a un ritmo exponencial. Python no obliga al desarrollador a mantener el código separado, siempre puedes tener todo tu código recogido en un solo fichero, pero este se hace inpracticable  en un momento determinado.\n",
        "\n",
        "Para solucionar este problema existen los módulos. Un módulo es un fichero Python donde se pueden definir funciones, claes y variables que puedes referenciar y añadir a otro código.\n",
        "\n",
        "Este código puede importarse usando la palabra reservada **import** o **from** con el siguiente formato:\n",
        "\n",
        "\n",
        "\n",
        "```\n",
        "import module1, module2.....\n",
        "from module1 import [reference]\n",
        "```\n",
        "\n"
      ]
    },
    {
      "cell_type": "code",
      "metadata": {
        "id": "RbUgf9eMZtIG"
      },
      "source": [
        "# Import module\n",
        "import time\n",
        "\n",
        "# call module by callint it's name\n",
        "seconds = time.time()\n",
        "\n",
        "print(seconds)"
      ],
      "execution_count": null,
      "outputs": []
    },
    {
      "cell_type": "markdown",
      "metadata": {
        "id": "moQvhonJaVKj"
      },
      "source": [
        "Por otro lado, con la notación **from ... import** podemos importar atributos específicos de un módulo al *namespace* actual."
      ]
    },
    {
      "cell_type": "code",
      "metadata": {
        "id": "7hLPdqafahN4"
      },
      "source": [
        "from time import time\n",
        "\n",
        "seconds = time()\n",
        "\n",
        "print(seconds)"
      ],
      "execution_count": null,
      "outputs": []
    },
    {
      "cell_type": "markdown",
      "source": [
        "También podremos poner alias a nuestros **imports** para referenciar el paquete con el nombre que queramos\n"
      ],
      "metadata": {
        "id": "02ItAOzBLEFD"
      }
    },
    {
      "cell_type": "code",
      "source": [
        "import tensorflow as tf\n",
        "import numpy as np"
      ],
      "metadata": {
        "id": "RHtPPpdnLNFA"
      },
      "execution_count": null,
      "outputs": []
    },
    {
      "cell_type": "markdown",
      "metadata": {
        "id": "l8uCFf4xXOGr"
      },
      "source": [
        "Cuando el interprete se encuentra la palabra reservada **import**, busca en la ruta declarada (puede ser relativa o absoluta) el fichero con el nombre declarado. Este fichero, al ser declarado se buscará en las siguientes secuencias hasta que se encuentre:\n",
        "\n",
        "\n",
        "\n",
        "*   En el directorio actual.\n",
        "*   Si no se encuentra en el directorio actual, Python busca en todos los directorios correspondientes a la variable de entorno PYTHONPATH.\n",
        "*   Si todo esto falla, Python comprueba la ruta por defecto. En UNIX por ejemplo es /usr/local/lib/python.\n",
        "\n",
        "La ruta de búsqueda de Python se encuentra en **sys.path**, esta ruta puede ampliarse en un proyecto para importar por defecto módulos.\n",
        "\n"
      ]
    },
    {
      "cell_type": "markdown",
      "source": [],
      "metadata": {
        "id": "x7spsr78LBzl"
      }
    },
    {
      "cell_type": "markdown",
      "metadata": {
        "id": "JjzXMluE2NHy"
      },
      "source": [
        "## Gestión de Paquetes"
      ]
    },
    {
      "cell_type": "markdown",
      "metadata": {
        "id": "ATdat7qB2Qfi"
      },
      "source": [
        "Muchos módulos pueden empaquetarse en un conjunto de ficheros que aportan determinada utilidad. Estos módulos pueden gestionarse en nuestro proyecto a través de un **gestor de paquetes**.\n",
        "\n",
        "[Pip](https://pypi.org/project/pip/) es el gestor de paquetes más popular de Python y permite instalar rápidamente módulos que necesitemos.\n",
        "\n",
        "Los módulos publicados en pip se pueden encontrar en [PyPI](https://pypi.org/), donde se puede encontrar información relativa a un paquete como el historial, referencia al código, licencias...\n",
        "\n",
        "Para instalar un paquete, solo tenemos que ejecutar:"
      ]
    },
    {
      "cell_type": "code",
      "metadata": {
        "id": "elq-HHik2Pkq"
      },
      "source": [
        "!pip install numpy"
      ],
      "execution_count": null,
      "outputs": []
    },
    {
      "cell_type": "code",
      "metadata": {
        "id": "XgG-C6m-Kkak"
      },
      "source": [
        "import numpy\n",
        "\n",
        "print(numpy.__version__)"
      ],
      "execution_count": null,
      "outputs": []
    },
    {
      "cell_type": "markdown",
      "metadata": {
        "id": "3DDV303CMYQw"
      },
      "source": [
        "# I/O"
      ]
    },
    {
      "cell_type": "markdown",
      "metadata": {
        "id": "xhu5jOf4XvED"
      },
      "source": [
        "**Print**\n",
        "\n",
        "Dentro de las funciones de entrada y de salida hemos estado viendo particularmente una durante las últimas clases, la función **print**. Si no os lo habíais preguntado antes, *print* es una función del sistema que imprime por pantalla una cadena de caracteres. Supongo que ya lo domniaréis pero se declara de la siguiente forma:\n"
      ]
    },
    {
      "cell_type": "code",
      "metadata": {
        "id": "cGF4Wx5RYKQB"
      },
      "source": [
        "print(\"Hello World\")\n",
        "test = \"Other\"\n",
        "print(test)"
      ],
      "execution_count": null,
      "outputs": []
    },
    {
      "cell_type": "markdown",
      "metadata": {
        "id": "NHKs7z92YPpm"
      },
      "source": [
        "**Input**\n",
        "\n",
        "La función de entrada en python se escribe con la palabra reservada **input**. Seguro que os sonará de un ejercicio en el que pedíamos una entrada de caracteres, y como se supone, esta función recoge la entrada del usuario por linea de comandos y la devuelve en formato de cadena de caracteres."
      ]
    },
    {
      "cell_type": "code",
      "metadata": {
        "id": "lm-16QdvYsd3"
      },
      "source": [
        "name = input(\"Say your name:\")\n",
        "\n",
        "print(f\"Hello, {name}\")"
      ],
      "execution_count": null,
      "outputs": []
    },
    {
      "cell_type": "markdown",
      "metadata": {
        "id": "ygvGWnN0ZXqw"
      },
      "source": [
        "**Open**\n",
        "\n",
        "La función open permite abrir determinados archivos, su sintaxis es la siguiente:\n",
        "\n",
        "\n",
        "\n",
        "```\n",
        "> f = open('workfile', [flag])\n",
        "```\n",
        "\n",
        "Siendo el primer argumento la ruta del archivo a abrir y la segunda el modo en el que se abre, que puede ser:\n",
        "\n",
        "\n",
        "\n",
        "*   **r** -> Abre el fichero para solo lectura. El puntero se sitúa al principio del archivo. Es el modo por defecto.\n",
        "*   **rb** -> Abre el fichero en modo solo lectura con formato binario. El puntero se sitúa al principio del archivo.\n",
        "*   **r+** -> Abre el archivo en modo lectura y escritura. El puntero se sitúa al principio del archivo.\n",
        "*   **rb+** -> Abre el archivo en modo lectura y escritura con formato binario. El puntero se sitúa al principio del archivo.\n",
        "*   **w** -> Abre un archivo para solo escritura. Sobreescribe el fichero si existe. Si no existe, crea el archivo.\n",
        "*   **wb** -> Abre un archivo para solo lectura en formato binario.  Sobreescribe el fichero si existe. Si no existe, crea el archivo.\n",
        "*   **a** -> Abre el archivo para agregar texto. El puntero se sitúa al final del archivo si existe. Si no existe crea uno nuevo para escritura. \n",
        "*   **a+** -> Abre el archivo para agregar texto en formato binario. El puntero se sitúa al final del archivo si existe. Si no existe crea uno nuevo para escritura. \n",
        "*   **ab** -> Abre el archivo para agregar texto y lectura. El puntero se sitúa al final del archivo si existe. Si no existe crea uno nuevo para escritura. \n",
        "*   **ab+** ->  Abre el archivo para agregar texto y lectura en formato binario. El puntero se sitúa al final del archivo si existe. Si no existe crea uno nuevo para escritura. \n",
        "\n",
        "\n",
        "\n",
        "\n",
        "\n"
      ]
    },
    {
      "cell_type": "markdown",
      "metadata": {
        "id": "gDGnS3Y3bw0h"
      },
      "source": [
        "**File**\n",
        "\n",
        "La función **open** nos devuelve un objeto de tipo **file**. Con este objeto podremos realizar las siguientes operaciones:\n",
        "\n",
        "\n",
        "\n",
        "*   **file.closed** -> Nos devuelve si el archivo está cerrado.\n",
        "*   **file.mode** -> Nos indica el tipo de acceso.\n",
        "*   **file.name** -> Devuelve el nombre del archivo.\n",
        "*   **file.close()** -> Función que cierra y el archivo y serializa los cambios.\n",
        "\n"
      ]
    },
    {
      "cell_type": "markdown",
      "source": [
        "**Abrir csv en pandas**\n",
        "\n",
        "Vamos a ver como procesar en Colab csv, utilizando una de las librerías antes mencionadas.\n",
        "\n",
        "Para ello vamos a usar el dataset de [abalones](https://es.wikipedia.org/wiki/Haliotis) de la [uci](https://archive.ics.uci.edu/ml/datasets/abalone).\n",
        "\n",
        "Para ello, descargar el archivo **Abalones** de la carpeta principal.\n",
        "\n",
        "Para importar los archivos, vamos a utilizar la librería `google.colab`, que permite controlar aspectos del cuaderno, para forzar la carga de archivos. Posteriormente con la librería `io` serializaremos estos datos.\n",
        "\n",
        "En un código ejecutado en una máquina este paso no sería necesario, podríamos usar `pd.read_csv` en la carpeta donde se encontrase nuestro archivo."
      ],
      "metadata": {
        "id": "KbFhDMZCJ7Dk"
      }
    },
    {
      "cell_type": "code",
      "source": [
        "import pandas as pd\n",
        "from google.colab import files\n",
        "import io\n",
        "\n",
        "uploaded = files.upload()\n",
        "abalone_train = pd.read_csv(io.BytesIO(uploaded['abalone_train.csv']), names=[\"Length\", \"Diameter\", \"Height\", \"Whole weight\", \"Shucked weight\",\n",
        "           \"Viscera weight\", \"Shell weight\", \"Age\"])\n",
        "\n",
        "abalone_train.head()"
      ],
      "metadata": {
        "id": "fSYoFwCtKAwl"
      },
      "execution_count": null,
      "outputs": []
    },
    {
      "cell_type": "markdown",
      "metadata": {
        "id": "hMUXgDXBjDy3"
      },
      "source": [
        "**CSV**\n",
        "\n",
        "Uno de los formatos más comúnes dentro del mundo de Data Science es organizar los datos en CSV delimitados, para ello hay que usar la función **open** y hacer un cast a **csvfile** y llamar al lector de csv, como en el siguiente ejemplo:\n",
        "\n",
        "\n",
        "\n",
        "```\n",
        "import csv\n",
        "\n",
        "with open('data.csv') as csvfile:\n",
        "        reader = csv.DictReader(csvfile, delimiter=';')\n",
        "        for row in reader:\n",
        "```\n",
        "\n"
      ]
    },
    {
      "cell_type": "markdown",
      "metadata": {
        "id": "lBZP_wzqMZ0g"
      },
      "source": [
        "# Excepciones"
      ]
    },
    {
      "cell_type": "markdown",
      "metadata": {
        "id": "YZzbustvjBNe"
      },
      "source": [
        "Python provee un mecanismo muy potente de control de errores. Saber utilizar esta herramienta es muy importante ya que protege el código de errores inesperados y permite anteponerse y ejecutar diferentes lineas de código dependiendo de si nuestro programa rompe su ejecución de una manera determinada.\n",
        "\n",
        "Los tipos de excepciones que podemos encontrar son enormes y están recogidos en la [documentación oficial de Python](https://docs.python.org/3.7/library/exceptions.html).\n",
        "\n",
        "La sintaxis para el tratamiento de errores es la siguiente:\n",
        "\n",
        "\n",
        "\n",
        "```\n",
        "try:\n",
        "    Aquí va el código que queremos controlar, siempre identado...\n",
        "    .......\n",
        "    .......\n",
        "except Exception1 as e:\n",
        "    Aquí tratar la excepción 1 que hemos renombrado a \"e\"\n",
        "except Exception2:\n",
        "    Puede ocurrir otro tipo de excepción\n",
        ".........\n",
        ".........\n",
        "else:\n",
        "    Este bloque se ejecuta si no ha habido errores.\n",
        "    \n",
        "```\n",
        "\n",
        "Hay varios puntos a tratar sobre las excepciones:\n",
        "\n",
        "\n",
        "\n",
        "*   Un solo bloque **try** puede tener múltiples excepciones. Esto es muy útil cuando estamos tratando un fragmento de código que puede lanzar distintas excepciones.\n",
        "*   También puede haber un **except** genérico que recoja cualquier excepción.\n",
        "*   Después de una clausula **except** se puede añadir un bloque **else** para ejcutar código.\n",
        "\n"
      ]
    },
    {
      "cell_type": "code",
      "metadata": {
        "id": "QjT_7ntbnJZW"
      },
      "source": [
        "dict_test = {\"hello\": \"hello\", \"world\": \"world\"}\n",
        "\n",
        "try:\n",
        "  test = dict_test[\"other\"]\n",
        "except KeyError as e:\n",
        "  print(e)\n",
        "  test = \"Not found\"\n",
        "  \n",
        "print(f\"We reach this part of the program with {test}\")"
      ],
      "execution_count": null,
      "outputs": []
    },
    {
      "cell_type": "markdown",
      "metadata": {
        "id": "1JbAE6Zkh39x"
      },
      "source": [
        "# Python Orientado a Objetos\n",
        "\n",
        "\n",
        "\n",
        "\n",
        "\n"
      ]
    },
    {
      "cell_type": "markdown",
      "metadata": {
        "id": "GiS1POiSawB5"
      },
      "source": [
        "Entramos en uno de los conceptos más importantes dentro de la programación, el paradigma de la orientación a objetos. Como su nombre indica centra el desarrollo en una estructura llamada objetos.\n",
        "\n",
        "Los conceptos de Programación Orientada a Objetos se remontan a principios de los 60, concretamente el lenguaje [Simula 67](https://en.wikipedia.org/wiki/Simula) fue el primero en incorporarlo, aunque no fue hasta los años 90 que se empezó a popularizar.\n",
        "\n",
        "Hasta ahora hemos estado viendo programación estructurada, que es aquella en que los datos y los procedimientos están separados y sin relación y animan a centrar el desarrollo en procedimientos y funciones. El problema puede ser que se acabe con mucho código repetido o también llamado código espagueti.\n",
        "\n",
        "La **Programación Orientada a Objetos** se centra en el desarrollo de objetos. Un objeto contiene toda la información que permite definirlo e identificarlo frente  a otros objetos pertenecientes a otras clases o sus propias clases, ya que puede tener diferentes valores en los **atributos**. Además tiene mecanísmos de interacción llamados **métodos** que favorece el cambio de estado o las acciones de los objetos."
      ]
    },
    {
      "cell_type": "code",
      "metadata": {
        "id": "Rw69Ke4NsJTL"
      },
      "source": [
        "wheels = 4\n",
        "engine = 110\n",
        "max_acc = 140\n",
        "acc_seg = 80\n",
        "\n",
        "def seg_to_mph(km):\n",
        "  if km > 140:\n",
        "    print(\"this car cannot\")\n",
        "    return\n",
        "  return km/80\n",
        "\n",
        "print(seg_to_mph(130))\n",
        "  "
      ],
      "execution_count": null,
      "outputs": []
    },
    {
      "cell_type": "code",
      "metadata": {
        "id": "9a5IPR4VV6T6"
      },
      "source": [
        "wheels = 2\n",
        "engine = 90\n",
        "max_acc = 100\n",
        "acc_seg = 40\n",
        "\n",
        "def seg_to_mph(km):\n",
        "  if km > 140:\n",
        "    print(\"this car cannot\")\n",
        "    return\n",
        "  return km/80\n",
        "\n",
        "print(seg_to_mph(130))"
      ],
      "execution_count": null,
      "outputs": []
    },
    {
      "cell_type": "markdown",
      "metadata": {
        "id": "VkrKnJlyWXlr"
      },
      "source": [
        "Simplificando lo anterior, podemos decir que en la Orientación a Objetos estructuramos **variables** y **funciones** en unidades lógicas, lo que llamaremos objetos. Estas **variables** son lo que hemos llamado **atributos** y las **funciones** serán los **métodos**.\n",
        "\n",
        "Un ejemplo de objeto sería un coche. Un coche tiene **atributos** importantes como el color, el modelo, el año y el tipo de gasolina. Además podemos interactuar con el objeto mediante sus **métodos** como arrancar, o acelerar.\n",
        "\n",
        "![alt text](https://res.cloudinary.com/practicaldev/image/fetch/s--O6de3Ai---/c_limit%2Cf_auto%2Cfl_progressive%2Cq_auto%2Cw_880/https://thepracticaldev.s3.amazonaws.com/i/k83oolqy85mixbnqra2w.PNG)\n",
        "\n",
        "Aunque sea sorprendente, ya hemos usado múltiples objetos en Python, por ejemplo las listas. Las listas tienen **métodos** como append(), clear() o copy() y se organizan en unidades lógicas con una función. \n",
        "\n"
      ]
    },
    {
      "cell_type": "code",
      "metadata": {
        "id": "9BJFHR49sIXR"
      },
      "source": [
        "test = [4, 5, 6, 8]\n",
        "test.clear()\n",
        "print(test)"
      ],
      "execution_count": null,
      "outputs": []
    },
    {
      "cell_type": "markdown",
      "metadata": {
        "id": "s4vkeGH5Xowp"
      },
      "source": [
        "La orientación a objetos está sustentada por cuatro pilares fundamentales:\n",
        "\n",
        "\n",
        "*   **Encapsulación** --> Agrupación de varios métodos y atributos en un objeto.\n",
        "*   **Abstracción** --> Capacidad de ocultar la complejidad de una implementación.\n",
        "*   **Herencia** --> Mecanismo para eliminar información redundante pudiendo compartir características.\n",
        "*   **Polimorfismo** --> Literalmente significa muchas formas, capacidad de que cambie el comportamiento de un objeto dependiendo del tipo de dato de entrada."
      ]
    },
    {
      "cell_type": "markdown",
      "metadata": {
        "id": "S_SCcZiMmj22"
      },
      "source": [
        "Sabiendo estos conceptos básicos podemos meternos de lleno en los diferentes elementos:"
      ]
    },
    {
      "cell_type": "markdown",
      "metadata": {
        "id": "CuJ4aaF8MdZf"
      },
      "source": [
        "### Clases"
      ]
    },
    {
      "cell_type": "markdown",
      "metadata": {
        "id": "Jh589It8mvgM"
      },
      "source": [
        "Son \"prototipos\" definidos por el programador que sirven como modelo para los atributos y los métodos de un objeto. Se podría hacer una analogía con las recetas de un plato. Con las clases podemos definir qué valores tendrá el objeto y qué podrá hacer.\n",
        "\n",
        "Para crear una clase solo necesitamos declarar la palabra reservada *class* y definir la clase interna:\n",
        "\n",
        "\n",
        "\n",
        "```\n",
        "class NewClass(object):\n",
        "    # Documentation\n",
        "    class_body\n",
        "```\n",
        "\n",
        "Así podremos ver un ejemplo de clase completo con un coche:\n"
      ]
    },
    {
      "cell_type": "code",
      "metadata": {
        "id": "ysh-6mHvowU2"
      },
      "source": [
        "class Car(object):\n",
        "  'Common class for a car object'\n",
        "  total_cars = 0 #secuencial number\n",
        "  \n",
        "  # Declaration\n",
        "  def __init__(self, model, color, id=\"2342FSD\"):\n",
        "    self.model = model\n",
        "    self.color = color\n",
        "    self.id = id\n",
        "    Car.total_cars += 1\n",
        "    \n",
        "  def get_model(self):\n",
        "    return self.model\n",
        "  \n",
        "  def print_model(self):\n",
        "    print(f\"The car is {self.model} \")\n",
        "    \n",
        "  def print_total_cars(self):\n",
        "    print(f\"Total amount of cars: {Car.total_cars}\")\n",
        "    \n",
        "  def print_color(self):\n",
        "    print(f\"The color of the car is {self.color}\")\n",
        "    \n",
        "  def start(self):\n",
        "    print(\"Engine running\")\n"
      ],
      "execution_count": null,
      "outputs": []
    },
    {
      "cell_type": "code",
      "source": [
        "class Model(object):\n",
        "  'Common class for a ML Model'\n",
        "  number_layers = 0\n",
        "\n",
        "  def __init__(self, layers):\n",
        "    self.layers = layers\n",
        "\n",
        "  def get_layers(self):\n",
        "    return self.layers\n",
        "  \n",
        "  def print_layers(self):\n",
        "    for layer in layers:\n",
        "      print(f\"Layer {layer}\")\n",
        "\n",
        "  def compile(self, loss='mean_squared_error',\n",
        "              optimizer='Adam'):\n",
        "    print(\"Compiling..\")\n",
        "\n",
        "  def fit(self, features, labels, epoch=500, verbose=False):\n",
        "    if verbose:\n",
        "      print(\"verbose mode....\")\n",
        "    print(\"Training...\")"
      ],
      "metadata": {
        "id": "hlSzqh8ML4Ia"
      },
      "execution_count": null,
      "outputs": []
    },
    {
      "cell_type": "markdown",
      "metadata": {
        "id": "xVZJinPsppEv"
      },
      "source": [
        "Aquí podemos ver tres elementos importantes:\n",
        "\n",
        "\n",
        "\n",
        "*   La variable *total_cars* es una variable compartida por todas las instancias de la clase, puede acceder estáticamente a través de una instancia *ClassName.variable*, en este caso *Car.serial_number*\n",
        "*   El primer método *\\_\\_init__()* es un método especial reservado a la inicialización del objeto, llamado **constructor**. Este es llamado cuando se instancia un objeto.\n",
        "*    Se declaran los atributos y los métodos, que son proipos de cada instancia. Para ello se usa la palabra reservada *self* tanto como primer argumento de un método como para referenciar a un atributo.\n",
        "\n"
      ]
    },
    {
      "cell_type": "markdown",
      "metadata": {
        "id": "0_EoHd95z5Pw"
      },
      "source": [
        "### Objetos"
      ]
    },
    {
      "cell_type": "markdown",
      "metadata": {
        "id": "eqyjOfQMka5p"
      },
      "source": [
        "Un objeto es una instancia de una estructura de datos definida en una clase. Un objeto se compone tanto de **atributos** de clase como de métodos.\n",
        "\n",
        "Para crear una instancia de una clase, solo hay que asignar a una variable la llamada al constructor de una clase y pasar los argumentos que acepta el constructor *\\_\\_init__*\n",
        "\n",
        "En Python la instanciación de un objeto sería de la siguiente forma:\n",
        "\n",
        "\n",
        "\n",
        "```\n",
        "inst_object = NewClass(attribute)\n",
        "```\n",
        "\n"
      ]
    },
    {
      "cell_type": "code",
      "metadata": {
        "id": "L_xanQbplEd1"
      },
      "source": [
        "# Objetc instantiation\n",
        "\n",
        "opel_car = Car(\"opel\", \"red\", id=\"67458IUK\")\n",
        "\n",
        "mercedes_car = Car(\"mercedes\", \"blue\", id=\"2342IOS\")\n",
        "\n",
        "tesla_car = Car(\"tesla\", \"grey\")\n",
        "\n",
        "#fail_car = Car()"
      ],
      "execution_count": null,
      "outputs": []
    },
    {
      "cell_type": "code",
      "source": [
        "dense_model = Model([\"l0\"])\n",
        "\n",
        "dense_model_sequential = Model([\"l0\", \"l1\", \"l2\"])"
      ],
      "metadata": {
        "id": "RRkBsoalNgcR"
      },
      "execution_count": null,
      "outputs": []
    },
    {
      "cell_type": "markdown",
      "metadata": {
        "id": "iQaVuL1u0AaT"
      },
      "source": [
        "### Atributos"
      ]
    },
    {
      "cell_type": "markdown",
      "metadata": {
        "id": "rDSB0uwMne09"
      },
      "source": [
        "Una vez instanciado el objeto, podremos acceder a sus atributos y métodos, para ello usaremos la notación de python (que ya conocemos bastante bien) con la llamada a la variable, seguida de un punto y el nombre del atribtuo o método.\n",
        "\n",
        "\n",
        "\n",
        "```\n",
        "isnt_object.attribute\n",
        "inst_object.method()\n",
        "```\n",
        "\n",
        "Así vemos como acceder a los atributos de nuestros objetos ya instanciados:\n"
      ]
    },
    {
      "cell_type": "code",
      "metadata": {
        "id": "ULqTzjoGn2eA"
      },
      "source": [
        "# method call\n",
        "opel_car.print_model()\n",
        "\n",
        "# attribute_call\n",
        "print(mercedes_car.color)\n",
        "\n",
        "print(tesla_car.id)"
      ],
      "execution_count": null,
      "outputs": []
    },
    {
      "cell_type": "markdown",
      "metadata": {
        "id": "U61PU9FLoCYi"
      },
      "source": [
        "En las llamadas a métodos, pese a que tenga como primer argumento *self* no es necesario declararlo, ya que como comentamos es una palabra reservada de Python para declarar una función como un método de clase.\n",
        "\n",
        "Por otro lado, podremos modificar atributos de clase normalmente:"
      ]
    },
    {
      "cell_type": "code",
      "metadata": {
        "id": "aQpOIJsDobEs"
      },
      "source": [
        "opel_car.color = \"green\"\n",
        "opel_car.print_color()\n"
      ],
      "execution_count": null,
      "outputs": []
    },
    {
      "cell_type": "markdown",
      "metadata": {
        "id": "-j1JHG9ao3cU"
      },
      "source": [
        "Hay una serie de funciones de Python que permiten consultar ciertas características de los atributos en Python:\n",
        "\n",
        "\n",
        "\n",
        "*   **getattr(obj, name)** -> Accede al atributo del objeto\n",
        "*   **hasattr(obj, name)** -> Comprueba si el atributo existe\n",
        "*   **setattr(obj, name)** -> Añade un atributo dinámicamente a un objeto\n",
        "*   **delattr(obj, name)** -> Elimina dinámicamente un atributo\n",
        "\n"
      ]
    },
    {
      "cell_type": "code",
      "metadata": {
        "id": "4N6XNJWRpTgp"
      },
      "source": [
        "print(hasattr(opel_car, 'color'))    # returns true if color exists\n",
        "print(getattr(opel_car, 'color'))    # returns value of 'color' attribute\n",
        "setattr(opel_car, 'color', 'pruple') # Set attribute 'age' at 8\n",
        "opel_car.print_color()\n",
        "delattr(opel_car, 'color')    # deletes attribute 'color'\n",
        "print(hasattr(opel_car, 'color'))"
      ],
      "execution_count": null,
      "outputs": []
    },
    {
      "cell_type": "markdown",
      "metadata": {
        "id": "qWYtWKKXpyj0"
      },
      "source": [
        "Por"
      ]
    },
    {
      "cell_type": "code",
      "metadata": {
        "id": "wPuMXOmDpzKv"
      },
      "source": [
        "print(f\"Car.__doc__: {Car.__doc__}\")\n",
        "print(f\"Car.__name__: {Car.__name__}\")\n",
        "print(f\"Car.__module__: {Car.__module__}\")\n",
        "print(f\"Car.__bases__: {Car.__bases__}\")\n",
        "print(f\"Car.__dict__: {Car.__dict__}\")\n",
        "print(f\"Car.__str__: {Car.__str__}\")\n"
      ],
      "execution_count": null,
      "outputs": []
    },
    {
      "cell_type": "markdown",
      "metadata": {
        "id": "z9HIlh9C0FBl"
      },
      "source": [
        "### Herencia"
      ]
    },
    {
      "cell_type": "markdown",
      "metadata": {
        "id": "h8jT6iZdrVfU"
      },
      "source": [
        "Para evitar la repetición de código de clases que puedan ser similares o compartan características en común, podemos derivar una clase de otra, haciendo que compartan tanto *atributos* como *métodos*.\n",
        "\n",
        "La clase hija \"hereda\" toda esto y lo puede utilizar según su conveniencia, adaptando valores para el propósito de la clase.\n",
        "\n",
        "La sintaxis de la herencia en Python es la siguiente:\n",
        "\n",
        "\n",
        "\n",
        "```\n",
        "class ParentClass(object):\n",
        "    object definition\n",
        "    def __init__(self):\n",
        "        constructor...\n",
        "    \n",
        "class ChildClass(ParentClass):\n",
        "     objedct definition\n",
        "     def __init__(self):\n",
        "        super().__init__() #optional\n",
        "```\n",
        "\n",
        "Esto lo podemos ver con un ejemplo claro:\n"
      ]
    },
    {
      "cell_type": "code",
      "metadata": {
        "id": "4dK7hiOxsDbm"
      },
      "source": [
        "class Vehicle(object):\n",
        "  \n",
        "  def __init__(self):\n",
        "    self.number_wheels = 0\n",
        "    self.model = \"\"\n",
        "    self.color = \"\"\n",
        "  \n",
        "  def print_model(self):\n",
        "    print(f\"Model of the vehicle is: {self.model}\")\n",
        "  \n",
        "  def print_number_wheels(self):\n",
        "    print(f\"Number of wheels: {self.number_wheels}\")\n",
        "  \n",
        "  def print_color(self):\n",
        "    print(f\"Color: {self.color}\")\n",
        "\n",
        "class Bike(Vehicle):\n",
        "  \n",
        "  def __init__(self, model, color):\n",
        "    self.number_wheels = 2\n",
        "    self.model = model\n",
        "    self.color = color\n",
        "    \n",
        "class Car(Vehicle):\n",
        "  \n",
        "  def __init__(self, model, color):\n",
        "    self.number_wheels = 4\n",
        "    self.model = model\n",
        "    self.color = color"
      ],
      "execution_count": null,
      "outputs": []
    },
    {
      "cell_type": "code",
      "metadata": {
        "id": "lrckd7IktUCV"
      },
      "source": [
        "bike = Bike(\"Yamaha\", \"black\")\n",
        "bike.print_model()\n",
        "bike.print_number_wheels()\n",
        "bike.print_color()\n",
        "\n",
        "car = Car(\"Opel\", \"red\")\n",
        "car.print_model()\n",
        "car.print_number_wheels()\n",
        "car.print_color()"
      ],
      "execution_count": null,
      "outputs": []
    },
    {
      "cell_type": "markdown",
      "metadata": {
        "id": "u2qGKDPRmLc0"
      },
      "source": [
        "### Polimorfismo"
      ]
    },
    {
      "cell_type": "markdown",
      "metadata": {
        "id": "n9PK5OVKqRx3"
      },
      "source": [
        "Polimorfismo es la capacidad de un método de una clase o una función de comportarse de forma diferente dependiendo de los parámetros de entrada. Esto lo hemos visto en algunas funciones como *len()*"
      ]
    },
    {
      "cell_type": "code",
      "metadata": {
        "id": "Hs2ogARrrIne"
      },
      "source": [
        "list_1 = [1, 2 ,3]\n",
        "str_1 = \"Hello\"\n",
        "print(len(list_1))\n",
        "print(len(str_1))"
      ],
      "execution_count": null,
      "outputs": []
    },
    {
      "cell_type": "markdown",
      "metadata": {
        "id": "ehvp9Kc8Bgmh"
      },
      "source": [
        "# Python en Machine Learning"
      ]
    },
    {
      "cell_type": "markdown",
      "metadata": {
        "id": "kV8FoS0s5hl6"
      },
      "source": [
        "Como hemos ido discutiendo a lo largo de los talleres, Python es un lenguaje muy popular dentro del ML, muchas de las razones son su facilidad de uso, herramientas como Jupyter Notebooks, la gran cantidad de librerías orientadas al *Data Science* y la comunidad que hay detrás de este lenguaje de programación.\n",
        "\n",
        "No es de extrañar que algunas de las librerías y frameworks más populares dentro de ML estén escritas en este lenguaje (o tengan una interfaz en Python).\n",
        "\n",
        "Así vamos a hablar de las principales librerías de tratamiento de datos y de los frameworks/librerías más famosas de ML en Python"
      ]
    },
    {
      "cell_type": "code",
      "source": [],
      "metadata": {
        "id": "ypxOe0rTziUs"
      },
      "execution_count": null,
      "outputs": []
    },
    {
      "cell_type": "markdown",
      "metadata": {
        "id": "NUYjlTtFMnuw"
      },
      "source": [
        "## Introducción a Numpy, Pandas, Sckit-learn"
      ]
    },
    {
      "cell_type": "markdown",
      "metadata": {
        "id": "HGH7CsuFtn4O"
      },
      "source": [
        "\n",
        "\n",
        "*   [Numpy](https://www.numpy.org/) -> Librería destinada a la manipulación de matrices, especialmente dentro de operaciones matemáticas.\n",
        "*   [Pandas](https://pandas.pydata.org/) -> Especializada en manipulación de datos y posterior análisis.\n",
        "*   [SciPy](https://www.scipy.org/) -> Otra librería de Python orientada a computación técnica y científica.\n",
        "*   [Matplotlib](https://matplotlib.org/) -> Muy útil para visualización de datos.\n",
        "*   [Scikit-Learn](https://scikit-learn.org/stable/) -> Paquete de Python diseñado para dar acceso a algoritmos de Aprendizaje Automático bien conocidos dentro del código Python, a través de una API limpia y bien pensada. Ha sido construido por cientos de colaboradores de todo el mundo y se usa en la industria y el mundo académico.\n",
        "Scikit-Learn esá basada en las librerías **NumPy** (Numerical Python) y **SciPy** (Scientific Python), que permiten la computación numérica y científica eficiente en Python.\n",
        "\n",
        "\n"
      ]
    },
    {
      "cell_type": "markdown",
      "metadata": {
        "id": "sxRfRC8_chax"
      },
      "source": [
        "Google tiene dos ejemplos rápidos para introducción a Numpy y Pandas:\n",
        "\n",
        "\n",
        "\n",
        "*   [Ejercicio Numpy](https://colab.research.google.com/github/google/eng-edu/blob/master/ml/cc/exercises/numpy_ultraquick_tutorial.ipynb?utm_source=mlcc&utm_campaign=colab-external&utm_medium=referral&utm_content=numpy_tf2-colab&hl=en)\n",
        "*   [Ejercicio Pandas](https://colab.research.google.com/github/google/eng-edu/blob/master/ml/cc/exercises/pandas_dataframe_ultraquick_tutorial.ipynb?utm_source=mlcc&utm_campaign=colab-external&utm_medium=referral&utm_content=pandas_tf2-colab&hl=en)\n",
        "\n"
      ]
    },
    {
      "cell_type": "markdown",
      "metadata": {
        "id": "eAdSsJLIMkcW"
      },
      "source": [
        "## Introducción a Tensorflow"
      ]
    },
    {
      "cell_type": "markdown",
      "metadata": {
        "id": "ABkLBWMW5blI"
      },
      "source": [
        "Tensorflow es un framework computacional creado para construir modelos de *Machine Learning*. Tensorflow proporciona una variedad de herramientas que permiten construir modelos a distintos niveles de abstracción.\n",
        "\n",
        "Así un programador puede usar las *APIs* de bajo nivel para construir modelos basados en una serie de operaciones matemáticas como usar las *APIs* de alto nivel para especificar arquitecturas predefinidas como regresiones lineales o redes neuronales.\n",
        "\n",
        "Esta foto, sacada de Google, nos muestra la arquitectura de Tensorflow:\n",
        "\n",
        "\n",
        "---\n",
        "\n",
        "\n",
        "\n",
        "![Tensorflow arch](https://developers.google.com/machine-learning/crash-course/images/TFHierarchyNew.svg)\n",
        "\n",
        "\n",
        "\n",
        "---\n",
        "\n",
        "Así pdoemos definir las siguientes capas:\n",
        "\n",
        "\n",
        "\n",
        "*   **Keras (tf.keras)** --> OOP API de alto nivel.\n",
        "*   **Estimator (tf.estimator)** --> OOP API de alto nivel.\n",
        "*   **tf.layers/tf.losses/tf.metrics** --> Bibliotecas de modelos comunes.\n",
        "*   **Python Tensorflow** --> Wrap de Tensorflow en Python.\n",
        "*  **C++ TensorFlow** --> Aplicación de TensorFlow escrita en C++ (POO), abstrae el hardware\n",
        "*   **CPU/GPU/TPU** --> Hardware usado por TensorFlow, parte de su potencia es que puede ejecutarse en muchas arquitecturas.\n",
        "\n"
      ]
    },
    {
      "cell_type": "markdown",
      "metadata": {
        "id": "ZYAcIGGO8T1d"
      },
      "source": [
        "Tensorflow consiste de dos componentes:\n",
        "\n",
        "\n",
        "\n",
        "*   [Un buffer de grafos](https://www.tensorflow.org/guide/extend/model_files#protocol_buffers), la unidad elemental en Tensorflow.\n",
        "*   Un archivo en ejecución que ejecuta, de forma distribuida, el grafo.\n",
        "\n",
        "\n",
        "Sería análogo a hablar entre el código en Python y el intérprete en Python. Así como el interprete en Python se implementa en muchas plataformas de hardware, TensorFlow puede ejecutar el grafo en múltiples arquitecturas, incluyendo CPU, GPU y TPU.\n",
        "\n"
      ]
    },
    {
      "cell_type": "markdown",
      "metadata": {
        "id": "LzxQ4wHm9GY1"
      },
      "source": [
        "**Hello World en Tensorflow**\n",
        "\n",
        "En Tensorflow, se declara el helloworld importando la librería *tensorflow*. Las constantes analizadas para ejecutar en una sesión de tensorflow se declaran con tf.constant y se ejecuta una interfaz sessión con *tf.Session()*\n",
        "\n",
        "**A partir de Tensorflow 2.0 los programas se ejecutan en \"modo impaciente\" por lo que no se necesitan sesiones para crear constantes**"
      ]
    },
    {
      "cell_type": "code",
      "metadata": {
        "id": "SSfctoBCJwCb"
      },
      "source": [
        "# Hello World In Tensorflow 1\n",
        "# ATENCIÓN ESTO ESTÁ DEPRECADO NO USAR!!!!!!\n",
        "\n",
        "\n",
        "import tensorflow as tf \n",
        "\n",
        "with tf.compat.v1.Session() as sess: # NO HACE FALTA EN TENSORFLOW 2.0\n",
        "  hello = tf.constant(\"Hello\")\n",
        "  world = tf.constant(\" World!\")\n",
        "  hello_world = hello + world\n",
        "  res = sess.run(hello_world) # NO HACE FALTA EJECUTAR ESTO\n",
        "  print(res)\n",
        "  print(hello_world)"
      ],
      "execution_count": null,
      "outputs": []
    },
    {
      "cell_type": "code",
      "metadata": {
        "id": "gMJi6gUzXDWh"
      },
      "source": [
        "# Hello World in Tensorflow 2\n",
        "import tensorflow as tf\n",
        "\n",
        "print(tf.__version__)\n",
        "\n",
        "hello = tf.constant('Hello')\n",
        "world = tf.constant('World!')\n",
        "hello_world = hello + world\n",
        "\n",
        "\n",
        "#print the message\n",
        "print(hello_world)\n"
      ],
      "execution_count": null,
      "outputs": []
    },
    {
      "cell_type": "code",
      "metadata": {
        "id": "7q3o0iNe9lpi"
      },
      "source": [
        "print(hello_world)"
      ],
      "execution_count": null,
      "outputs": []
    },
    {
      "cell_type": "markdown",
      "metadata": {
        "id": "nPPByUjT9yRJ"
      },
      "source": [
        "Esta variable conforma el protocolo del modelo de grafo computacional (computation graph model) de Tensorflow, que primero define que computos deben hacerse para luego ejecutarlos en un mecanismo externo."
      ]
    },
    {
      "cell_type": "markdown",
      "metadata": {
        "id": "3wF5wszaj97Y"
      },
      "source": [
        "## Ejemplo con TensorFlow 2"
      ]
    },
    {
      "cell_type": "markdown",
      "metadata": {
        "id": "04QgGZc9bF5D"
      },
      "source": [
        "Este primer ejemplo usa [Keras](https://www.tensorflow.org/guide/keras/overview) para:\n",
        "\n",
        "1. Cargar un dataset pre-compilado\n",
        "2. Construir un modelo de machine learning basdao en redes neuronales que clasifica imágenes.\n",
        "3. Entrenar esta red neuronal.\n",
        "4. Evaluar la precisión del modelo.\n"
      ]
    },
    {
      "cell_type": "markdown",
      "metadata": {
        "id": "nnrWf3PCEzXL"
      },
      "source": [
        "### Configurar TensorFlow\n",
        "\n",
        "Importa TensorFlow en tu programa para empezar:\n"
      ]
    },
    {
      "cell_type": "code",
      "execution_count": null,
      "metadata": {
        "id": "0trJmd6DjqBZ"
      },
      "outputs": [],
      "source": [
        "import tensorflow as tf\n",
        "print(\"TensorFlow version:\", tf.__version__)"
      ]
    },
    {
      "cell_type": "markdown",
      "metadata": {
        "id": "7NAbSZiaoJ4z"
      },
      "source": [
        "### Carga el dataset\n",
        "\n",
        "Carga y prepara el [dataset de MNIST](http://yann.lecun.com/exdb/mnist/). Ahora convierte la información de enteros a numeros de coma-flotante:\n"
      ]
    },
    {
      "cell_type": "code",
      "execution_count": null,
      "metadata": {
        "id": "7FP5258xjs-v"
      },
      "outputs": [],
      "source": [
        "mnist = tf.keras.datasets.mnist\n",
        "\n",
        "(x_train, y_train), (x_test, y_test) = mnist.load_data()\n",
        "x_train, x_test = x_train / 255.0, x_test / 255.0"
      ]
    },
    {
      "cell_type": "markdown",
      "metadata": {
        "id": "BPZ68wASog_I"
      },
      "source": [
        "### Construye el modelo\n",
        "\n",
        "Construye un modelo `tf.keras.Sequential` acoplando diferentes capas."
      ]
    },
    {
      "cell_type": "code",
      "execution_count": null,
      "metadata": {
        "id": "h3IKyzTCDNGo"
      },
      "outputs": [],
      "source": [
        "model = tf.keras.models.Sequential([\n",
        "  tf.keras.layers.Flatten(input_shape=(28, 28)),\n",
        "  tf.keras.layers.Dense(128, activation='relu'),\n",
        "  tf.keras.layers.Dropout(0.2),\n",
        "  tf.keras.layers.Dense(10)\n",
        "])"
      ]
    },
    {
      "cell_type": "markdown",
      "metadata": {
        "id": "l2hiez2eIUz8"
      },
      "source": [
        "Por cada ejemplo, el modelo devuelve un vector de puntuaciones de [logits](https://developers.google.com/machine-learning/glossary#logits) o [log-odds](https://developers.google.com/machine-learning/glossary#log-odds), uno por cada clase."
      ]
    },
    {
      "cell_type": "code",
      "execution_count": null,
      "metadata": {
        "id": "OeOrNdnkEEcR"
      },
      "outputs": [],
      "source": [
        "predictions = model(x_train[:1]).numpy()\n",
        "predictions"
      ]
    },
    {
      "cell_type": "markdown",
      "metadata": {
        "id": "tgjhDQGcIniO"
      },
      "source": [
        "La función `tf.nn.softmax` convierte estos logits a *probabilidades* por cada clase: "
      ]
    },
    {
      "cell_type": "code",
      "execution_count": null,
      "metadata": {
        "id": "zWSRnQ0WI5eq"
      },
      "outputs": [],
      "source": [
        "tf.nn.softmax(predictions).numpy()"
      ]
    },
    {
      "cell_type": "markdown",
      "metadata": {
        "id": "hQyugpgRIyrA"
      },
      "source": [
        "Define una función de perdida para el entrenamiento usando `losses.SparseCategoricalCrossentropy`, que coge un vector de logits y un index `Ture` y devuelve un escalar de perdida para cada ejemplo.\n"
      ]
    },
    {
      "cell_type": "code",
      "execution_count": null,
      "metadata": {
        "id": "RSkzdv8MD0tT"
      },
      "outputs": [],
      "source": [
        "loss_fn = tf.keras.losses.SparseCategoricalCrossentropy(from_logits=True)"
      ]
    },
    {
      "cell_type": "markdown",
      "metadata": {
        "id": "SfR4MsSDU880"
      },
      "source": [
        "La. perdida es igual a la probabilidad logarítmica negativa de la clase verdadera: La perdida es cero si el modelo está seguro que es la clase correcta.\n",
        "\n",
        "Este modelo sin entrenar devuelve probabilidades cerca del aleatorio (1/10 por cada clase), así que la pérdida inicial tiene que ser cercana a `-tf.math.log(1/10) ~= 2.3`."
      ]
    },
    {
      "cell_type": "code",
      "execution_count": null,
      "metadata": {
        "id": "NJWqEVrrJ7ZB"
      },
      "outputs": [],
      "source": [
        "loss_fn(y_train[:1], predictions).numpy()"
      ]
    },
    {
      "cell_type": "markdown",
      "metadata": {
        "id": "ada44eb947d4"
      },
      "source": [
        "Antes de empezar el entrenamiento, configura y compila el modelo usando el `Model.compile` de Keras. Añade la clase [`optimizer`](https://www.tensorflow.org/api_docs/python/tf/keras/optimizers) a `adam`, la `perdida` a la función `loss_fn` que has definido anteriormente y especifica una métrica para evaluar por el modelo al habilitar el parámetro `metics` con `accuracy`.\n"
      ]
    },
    {
      "cell_type": "code",
      "execution_count": null,
      "metadata": {
        "id": "9foNKHzTD2Vo"
      },
      "outputs": [],
      "source": [
        "model.compile(optimizer='adam',\n",
        "              loss=loss_fn,\n",
        "              metrics=['accuracy'])"
      ]
    },
    {
      "cell_type": "markdown",
      "metadata": {
        "id": "ix4mEL65on-w"
      },
      "source": [
        "### Entrena y evalua el modelo\n",
        "Usa el método `Model.fit` para ajustar los parámetros de tu modelo y minimiza la pérdida:"
      ]
    },
    {
      "cell_type": "code",
      "execution_count": null,
      "metadata": {
        "id": "y7suUbJXVLqP"
      },
      "outputs": [],
      "source": [
        "model.fit(x_train, y_train, epochs=5)"
      ]
    },
    {
      "cell_type": "markdown",
      "metadata": {
        "id": "4mDAAPFqVVgn"
      },
      "source": [
        "El método `Model.evaluate` comprueba el desempeño del modelo, normalmente en un \"[Validation-set](https://developers.google.com/machine-learning/glossary#validation-set)\" o \"[Test-set](https://developers.google.com/machine-learning/glossary#test-set)\"."
      ]
    },
    {
      "cell_type": "code",
      "execution_count": null,
      "metadata": {
        "id": "F7dTAzgHDUh7"
      },
      "outputs": [],
      "source": [
        "model.evaluate(x_test,  y_test, verbose=2)"
      ]
    },
    {
      "cell_type": "markdown",
      "metadata": {
        "id": "T4JfEh7kvx6m"
      },
      "source": [
        "Como podéis observar, el clasificador de imágenes está entrenado con un 98% de precisión en este Dataset.\n"
      ]
    },
    {
      "cell_type": "markdown",
      "metadata": {
        "id": "Aj8NrlzlJqDG"
      },
      "source": [
        "Si quieres que tu modelo devuelva una probabilidad, puedes envolver el modelo entrenado y añadir la capa `softmax`:"
      ]
    },
    {
      "cell_type": "code",
      "execution_count": null,
      "metadata": {
        "id": "rYb6DrEH0GMv"
      },
      "outputs": [],
      "source": [
        "probability_model = tf.keras.Sequential([\n",
        "  model,\n",
        "  tf.keras.layers.Softmax()\n",
        "])"
      ]
    },
    {
      "cell_type": "code",
      "execution_count": null,
      "metadata": {
        "id": "cnqOZtUp1YR_"
      },
      "outputs": [],
      "source": [
        "probability_model(x_test[:5])"
      ]
    },
    {
      "cell_type": "markdown",
      "source": [
        "## Ejemplo MNIST\n"
      ],
      "metadata": {
        "id": "zExpVsqAzLEO"
      }
    },
    {
      "cell_type": "markdown",
      "metadata": {
        "id": "_OdeywLa4YoY"
      },
      "source": [
        "**MNIST**\n",
        "\n",
        "El dataset de dígitos de MNIST (Mixed National Institute of Standards and Technology) es uno de los datasets más usados dentro de la investigación y la Visión Artificial, y ha tenido un rol muy importante dentro del desarrollo de Redes Neuronales pretenecientes al *depp learning*.\n",
        "\n",
        "Algunas de las figuras que continen el dataset serían las siguientes.\n",
        "\n",
        "![MNist](https://upload.wikimedia.org/wikipedia/commons/2/27/MnistExamples.png)\n",
        "\n",
        "El el siguiente cuadro de código veremos un clasificador muy simple llamado [softmax regression](http://deeplearning.stanford.edu/tutorial/supervised/SoftmaxRegression/). No entraremos en profundidad en la parte matemática ya que nos interesa más bien la estructura de TensorFlow.\n",
        "\n",
        "Su funcionamiento consiste en que el modelo intentará de resolver, por cada pixel, que digitos tienen valores altos y bajos en cada espacio. Es decir, en los píxeles centrales es muy probable que sean negros para los 0 mientras que sean blancos para los 1.\n",
        "\n",
        "El objetivo de este modelo consiste en encontrar pesos que nos asegure la evidencia de la existencia de cada uno de los dígitos, sin usar la información espacial del pixel."
      ]
    },
    {
      "cell_type": "markdown",
      "metadata": {
        "id": "GCWz9ymMTYHJ"
      },
      "source": [
        "Es por ello que para el siguiente ejemplo usaremos Keras para:\n",
        "\n",
        "\n",
        "1.   Construir una red neuronal que clasifique imágenes.\n",
        "2.   Entrenar esa red neuronal.\n",
        "3.   Evaluar la precisión del modelo\n",
        "\n"
      ]
    },
    {
      "cell_type": "markdown",
      "metadata": {
        "id": "BCJeUNh1TwsD"
      },
      "source": [
        "Lo primero sería importar tensorflow y preparar el dataset de MNIST. Convirtiendo los ejemplos de enteros a numeros con coma flotante:"
      ]
    },
    {
      "cell_type": "code",
      "metadata": {
        "id": "eQngQR6DHrol"
      },
      "source": [
        "import tensorflow as tf\n",
        "mnist = tf.keras.datasets.mnist\n",
        "\n",
        "(x_train, y_train), (x_test, y_test) = mnist.load_data()\n",
        "x_train, x_test = x_train / 255.0, x_test / 255.0"
      ],
      "execution_count": null,
      "outputs": []
    },
    {
      "cell_type": "markdown",
      "metadata": {
        "id": "iKdd7VQNUNEn"
      },
      "source": [
        "Ahora constuiremos el modelo ```tf.keras.Sequiential```añadiendo las capas. Elegiremos un optimizador y una función de perdida."
      ]
    },
    {
      "cell_type": "code",
      "metadata": {
        "id": "LBDYqG0yUXT7"
      },
      "source": [
        "l0 = tf.keras.layers.Flatten(input_shape=(28, 28))\n",
        "model = tf.keras.models.Sequential([\n",
        "  l0,\n",
        "  tf.keras.layers.Dense(128, activation='relu'),\n",
        "  tf.keras.layers.Dropout(0.2),\n",
        "  tf.keras.layers.Dense(10)\n",
        "])"
      ],
      "execution_count": null,
      "outputs": []
    },
    {
      "cell_type": "markdown",
      "metadata": {
        "id": "dl4z0VN2UcTK"
      },
      "source": [
        "Por cada ejemplo, el modelo devuelve un vetor de \"[logits](https://developers.google.com/machine-learning/glossary#logits)\" o \"[log-odds](https://developers.google.com/machine-learning/glossary#log-odds)\", uno para cada clase, que son vectores de predicción del modelo."
      ]
    },
    {
      "cell_type": "code",
      "metadata": {
        "id": "ftSXCh58U24R"
      },
      "source": [
        "predictions = model(x_train[:1]).numpy()\n",
        "predictions"
      ],
      "execution_count": null,
      "outputs": []
    },
    {
      "cell_type": "markdown",
      "metadata": {
        "id": "GoKgWJEeU61B"
      },
      "source": [
        "La función ```tf.nn.softmax``` convierte estos logits en probabilidades para cada clase."
      ]
    },
    {
      "cell_type": "code",
      "metadata": {
        "id": "H0ovcBcNVBT3"
      },
      "source": [
        "tf.nn.softmax(predictions).numpy()"
      ],
      "execution_count": null,
      "outputs": []
    },
    {
      "cell_type": "markdown",
      "metadata": {
        "id": "6Y1K56GNVKbI"
      },
      "source": [
        "La función de perdida `losses.SparseCategoricalCrossentropy` coge un vector de logits y un Inidce `True`y devuelve una perdida escalar por cada ejemplo."
      ]
    },
    {
      "cell_type": "code",
      "metadata": {
        "id": "4Rikya3GVXsh"
      },
      "source": [
        "loss_fn = tf.keras.losses.SparseCategoricalCrossentropy(from_logits=True)"
      ],
      "execution_count": null,
      "outputs": []
    },
    {
      "cell_type": "markdown",
      "metadata": {
        "id": "GpKUaHLnVagX"
      },
      "source": [
        "Esta perdida es igual a la probabilidad logarítmica negativa de la clase: Es cero si el modelo está seguro de la clase correcta.\n",
        "\n",
        "El modelo sin entrenar da probabilidades cercanas a algo aleatorio (1/10 por cada clase), así que la perdida inicial suele estar cerca de: `-tf.log(1/10) ~= 2.3`."
      ]
    },
    {
      "cell_type": "code",
      "metadata": {
        "id": "o2xzx8D8Vvsn"
      },
      "source": [
        "loss_fn(y_train[:1], predictions).numpy()"
      ],
      "execution_count": null,
      "outputs": []
    },
    {
      "cell_type": "code",
      "metadata": {
        "id": "dQGVX2WtVxLp"
      },
      "source": [
        "model.compile(optimizer='adam',\n",
        "              loss=loss_fn,\n",
        "              metrics=['accuracy'])"
      ],
      "execution_count": null,
      "outputs": []
    },
    {
      "cell_type": "markdown",
      "metadata": {
        "id": "UsZZHCzgV0gh"
      },
      "source": [
        "El método `Model.fit`ajusta los parámetros del modelo para minimizar la perdida:"
      ]
    },
    {
      "cell_type": "code",
      "metadata": {
        "id": "AVpBTdBxV6hg"
      },
      "source": [
        "model.fit(x_train, y_train, epochs=5)"
      ],
      "execution_count": null,
      "outputs": []
    },
    {
      "cell_type": "markdown",
      "metadata": {
        "id": "FdrkFgeSV9zC"
      },
      "source": [
        "El método `Model.evaluate` comprueba el desempeño del modelo."
      ]
    },
    {
      "cell_type": "code",
      "metadata": {
        "id": "e6EhKqb9WIa-"
      },
      "source": [
        "model.evaluate(x_test,  y_test, verbose=2)"
      ],
      "execution_count": null,
      "outputs": []
    },
    {
      "cell_type": "markdown",
      "metadata": {
        "id": "A7Hor0IBWLtO"
      },
      "source": [
        "Ahora el modelo está entrenado para tener una probabilidad del 97%"
      ]
    },
    {
      "cell_type": "markdown",
      "metadata": {
        "id": "YHI3vyhv5p85"
      },
      "source": [
        "## Modelo para convertir temperatura"
      ]
    },
    {
      "cell_type": "markdown",
      "metadata": {
        "id": "7WJ9iq-jPvmQ"
      },
      "source": [
        "### Comentario del profesor\n",
        "\n",
        "Este Colab es un modelo creado por Google para resolver el algorítmo que vimos de conversión de grados centígrados a farenheit.\n",
        "\n",
        "Aquí podemos ver ya la diferencia entre un algorítmo y un modelo a la hora de resolver una tarea determinada.\n",
        "\n",
        "Este no es el mejor ejemplo posible, ya que el algorítmo que queremos usar es bastante sencillo, pero imaginad que el algorítmo fuese una clasificación de imágenes... ¿Cómo lo afrontaríais si fuera por código?.\n",
        "\n",
        "Primero, vamos a ver como convertir en Python de centígrados a kelvin."
      ]
    },
    {
      "cell_type": "code",
      "metadata": {
        "id": "X4s57WMxRtYj"
      },
      "source": [
        "def temp_conversion(temp):\n",
        "  return list(map(lambda val: (val * 9/5) + 32, temp))\n",
        "\n",
        "temperatures = [-40, -10,  0,  8, 15, 22,  38]\n",
        "print(temp_conversion(temperatures))"
      ],
      "execution_count": null,
      "outputs": []
    },
    {
      "cell_type": "markdown",
      "metadata": {
        "id": "OBQVCFuuNrME"
      },
      "source": [
        "Ahora exploraremos como generar un modelo de ML que realice la misma función que este algoritmo.\n"
      ]
    },
    {
      "cell_type": "markdown",
      "metadata": {
        "id": "oMD_bvBTN7VO"
      },
      "source": [
        "### Introducción"
      ]
    },
    {
      "cell_type": "markdown",
      "metadata": {
        "id": "F8YVA_634OFk"
      },
      "source": [
        "\n",
        "Como hemos comentado arriba, el objetivo principal de este modelo es convertir grados Celsius a Fahrenheit, la formula para la conversión es la siguiente:\n",
        "\n",
        "$$ f = c \\times 1.8 + 32 $$\n",
        "\n",
        "Si habéis estado atentos a las explicaciones previas, esta función corresponde a un modelo simle de [regresión lineal](https://developers.google.com/machine-learning/glossary/#linear-regression).\n",
        "\n",
        "Crear el algoritmo en Python para solventar este problema sería muy sencillo, pero vamos a ver como resolverlo en Tensorflow con un modelo básico. Vamos a coger varios datos en celsius (0, 8, 15, 22, 38) y sus valores correspondientes en Fahrenheit (32, 46, 59, 72, 100) y entrenaremos el modelo con Keras."
      ]
    },
    {
      "cell_type": "markdown",
      "metadata": {
        "id": "fA93WUy1zzWf"
      },
      "source": [
        "### Importar dependencias\n",
        "\n",
        "Lo primero que haremos es importar **TensorFlow**. Como hemos hablado arriba, vamos a crear un alias para la importación y llamarlo `tf`. Además vamos a importar [NumPy](http://www.numpy.org/) como `np` y `logging` para crear logs de los pasos."
      ]
    },
    {
      "cell_type": "code",
      "metadata": {
        "id": "-ZMgCvSRFqxE"
      },
      "source": [
        "import tensorflow as tf"
      ],
      "execution_count": null,
      "outputs": []
    },
    {
      "cell_type": "code",
      "metadata": {
        "id": "y_WQEM5MGmg3"
      },
      "source": [
        "import numpy as np\n",
        "import logging\n",
        "logger = tf.get_logger()\n",
        "logger.setLevel(logging.ERROR)"
      ],
      "execution_count": null,
      "outputs": []
    },
    {
      "cell_type": "markdown",
      "metadata": {
        "id": "AC3EQFi20buB"
      },
      "source": [
        "### Establecer los datos de entrenamiento\n",
        "\n",
        "Como hemos visto antes, vamos a crear dos vectores con **NumPy** para representar las *features* (celsisus) y las *labels* (fahrenheit). Llamarémos al método `np.array` y pasaremos como primer argumento la lista de valores y como segundo el tipo de dato, en este caso **float**.\n",
        "\n",
        "Ahora usaremos un bucle para imprimir los *examples* por pantalla:"
      ]
    },
    {
      "cell_type": "code",
      "metadata": {
        "id": "gg4pn6aI1vms"
      },
      "source": [
        "celsius_q    = np.array([-40, -10,  0,  8, 15, 22,  38],  dtype=float)\n",
        "fahrenheit_a = np.array([-40,  14, 32, 46, 59, 72, 100],  dtype=float)\n",
        "\n",
        "for i,c in enumerate(celsius_q):\n",
        "  print(\"{} degrees Celsius = {} degrees Fahrenheit\".format(c, fahrenheit_a[i]))"
      ],
      "execution_count": null,
      "outputs": []
    },
    {
      "cell_type": "markdown",
      "metadata": {
        "id": "VM7_9Klvq7MO"
      },
      "source": [
        "### Crear el modelo\n",
        "\n",
        "Ahora vamos a crear el modelo de [red neuronal](https://developers.google.com/machine-learning/glossary/#neural-network). Usaremos el más sencillo posible, una [red Densa](https://developers.google.com/machine-learning/glossary/#dense-layer), donde todas las capas están conectadas, que requerirá una única capa y un solo [neuron](https://developers.google.com/machine-learning/glossary/#neuron).\n",
        "\n",
        "\n",
        "#### Crear la capa\n",
        "\n",
        "Vamos a llamar a la capa (layer) `l0` y la vamos a instanciar con el objeto `tf.keras.layers.Dense` con los siguientes parámetros de inicialización: \n",
        "\n",
        "\n",
        "*   `input_shape=[1]` — Esto especifica que la entrada de esta capa es un único valor. Así que la forma es de array uni-dimensional con un solo miembro. Al ser la única capa, la entrada es la única del modelo, en este caso es el valor de los **grados Celsius**\n",
        "\n",
        "\n",
        "*   `units=1` — Este parámetro especifica el número de neuronas en la capa. El número de neuronas define cuantas variables internas tiene que probar la capa para resolver el problema. En este caso como es la capa final es el tamaño de la salida del modelo, el valor de los **grados Fahrenheit**.\n"
      ]
    },
    {
      "cell_type": "code",
      "metadata": {
        "id": "pRllo2HLfXiu"
      },
      "source": [
        "l0 = tf.keras.layers.Dense(units=1, input_shape=[1])"
      ],
      "execution_count": null,
      "outputs": []
    },
    {
      "cell_type": "markdown",
      "metadata": {
        "id": "_F00_J9duLBD"
      },
      "source": [
        "#### Juntar las capas en el modelo\n",
        "\n",
        "Una vez tenemos definidas las capas, estas deben ser introducidas en el modelo. El modelo [Secuencial](https://developers.google.com/machine-learning/glossary/#sequence-model) coge una lista de capas como argumento de forma ordenada.\n",
        "\n",
        "En este caso el modelo tiene una sola capa, `l0`."
      ]
    },
    {
      "cell_type": "code",
      "metadata": {
        "id": "cSp-GpLSuMRq"
      },
      "source": [
        "model = tf.keras.Sequential([l0])"
      ],
      "execution_count": null,
      "outputs": []
    },
    {
      "cell_type": "markdown",
      "metadata": {
        "id": "t7pfHfWxust0"
      },
      "source": [
        "**Importante**\n",
        "\n",
        "Para la explicación hemos hecho la definición en dos partes, pero se puede ver el conjunto de modelo con la definición de las capas en la misma linea:\n",
        "\n",
        "```python\n",
        "model = tf.keras.Sequential([\n",
        "  tf.keras.layers.Dense(units=1, input_shape=[1])\n",
        "])\n",
        "```"
      ]
    },
    {
      "cell_type": "markdown",
      "metadata": {
        "id": "kiZG7uhm8qCF"
      },
      "source": [
        "### Compilar el modelo, con las funciones de perdida y optimización\n",
        "\n",
        "Antes de entrenar, el modelo tiene que compilarse. Cuando se compila para un entrenamiento, se pasan como argumento:\n",
        "\n",
        "\n",
        "- **Función de perdida** — Función para medir la exactitud de las predicciones.\n",
        "\n",
        "- **Función de optimización** — Función para ajustar los valores internos para reducir la pérdida.\n"
      ]
    },
    {
      "cell_type": "code",
      "metadata": {
        "id": "m8YQN1H41L-Y"
      },
      "source": [
        "model.compile(loss='mean_squared_error',\n",
        "              optimizer=tf.keras.optimizers.Adam(0.1))"
      ],
      "execution_count": null,
      "outputs": []
    },
    {
      "cell_type": "markdown",
      "metadata": {
        "id": "17M3Pqv4P52R"
      },
      "source": [
        "Lo más importante que debéis saber de estos parámetors es:\n",
        "\n",
        "La función de perdida ([mean squared error](https://en.wikipedia.org/wiki/Mean_squared_error)) y el optimizador ([Adam](https://machinelearningmastery.com/adam-optimization-algorithm-for-deep-learning/)) son los más sencillos que se pueden usar, ya que estamos en un modelo muy simple.\n",
        "\n",
        "El argumento que recibe el optimizador es la [tasa de entrenamiento](https://developers.google.com/machine-learning/glossary/#learning-rate) (0.1), esta es la tasa que vamos a ir variando para ajustar la perdida."
      ]
    },
    {
      "cell_type": "markdown",
      "metadata": {
        "id": "c-Jk4dG91dvD"
      },
      "source": [
        "### Entrenar el modelo\n",
        "\n",
        "Ahora vamos a entrenar el modelo llamando al método `fit`.\n",
        "\n",
        "Símplemente vamos a coger como parámetros las **features** (`celsius_q`) las **labels** (`fahrenheit_a`), los ciclos de cada entrenamiento (`epochs`) e indicar que queremos la ejecución en modo `verbose`."
      ]
    },
    {
      "cell_type": "code",
      "metadata": {
        "id": "lpRrl7WK10Pq"
      },
      "source": [
        "history = model.fit(celsius_q, fahrenheit_a, epochs=500, verbose=True)\n",
        "print(\"Finished training the model\")"
      ],
      "execution_count": null,
      "outputs": []
    },
    {
      "cell_type": "markdown",
      "metadata": {
        "id": "0-QsNCLD4MJZ"
      },
      "source": [
        "### Mostrar las estadísticas del entrenamiento.\n",
        "\n",
        "El método `fit` devuelve un objeto `history`. Podemos usar este objeto para mostrar una gráfica con la variación de la **función de perdida** entre cada *epoch*. Una perdida grande significa que la predicción está muy lejos del resultado.\n",
        "\n",
        "Vamos a usar [Matplotlib](https://matplotlib.org/) para visualizar el resultado. Como podemos ver, el modelo mejora rápidamente para luego frenarse al final de las ejecuciones.\n"
      ]
    },
    {
      "cell_type": "code",
      "metadata": {
        "id": "IeK6BzfbdO6_"
      },
      "source": [
        "import matplotlib.pyplot as plt\n",
        "plt.xlabel('Epoch Number')\n",
        "plt.ylabel(\"Loss Magnitude\")\n",
        "plt.plot(history.history['loss'])"
      ],
      "execution_count": null,
      "outputs": []
    },
    {
      "cell_type": "markdown",
      "metadata": {
        "id": "LtQGDMob5LOD"
      },
      "source": [
        "### Usar el modelo para predecir valores\n",
        "\n",
        "Ahora que el modelo ha sido entrenado, podemos usarlo para producir predicciones de **celsius** a **fahrenheit**. Podemos usar el método `predict` para realizar el cálculo.\n"
      ]
    },
    {
      "cell_type": "code",
      "metadata": {
        "id": "oxNzL4lS2Gui"
      },
      "source": [
        "print(model.predict([100.0]))"
      ],
      "execution_count": null,
      "outputs": []
    },
    {
      "cell_type": "markdown",
      "metadata": {
        "id": "jApk6tZ1fBg1"
      },
      "source": [
        "La respuesta correcta es $100 \\times 1.8 + 32 = 212$, así que nuestro modelo funciona bastante bien.\n",
        "\n"
      ]
    },
    {
      "cell_type": "markdown",
      "metadata": {
        "id": "zRrOky5gm20Z"
      },
      "source": [
        "### Viendo los pesos de las capas\n",
        "\n",
        "Ahora vamos a ver los valores internos de la capa."
      ]
    },
    {
      "cell_type": "code",
      "metadata": {
        "id": "kmIkVdkbnZJI"
      },
      "source": [
        "print(\"These are the layer variables: {}\".format(l0.get_weights()))"
      ],
      "execution_count": null,
      "outputs": []
    },
    {
      "cell_type": "markdown",
      "metadata": {
        "id": "RSplSnMvnWC-"
      },
      "source": [
        "La primera variable está cerca de ~1.8 y la segunda de ~32, que corresponden con los valores reales de la formula de conversión. Ha conseguido predecir los valores de esta ecuación lineal.\n"
      ]
    },
    {
      "cell_type": "markdown",
      "metadata": {
        "id": "6JER5f5tjdXI"
      },
      "source": [
        "## Más ejemplos con Keras"
      ]
    },
    {
      "cell_type": "markdown",
      "metadata": {
        "id": "DaOSVY_QjjkM"
      },
      "source": [
        "Keras es una parte integral de Tensorflow 2.0. Esta librería/framework permite crear modelos de Machine Learning en pocas lineas y de una forma muy *Pythonica*.\n",
        "\n",
        "En la propia página de Tensorflow podemos encontrar algunos ejemplos como:\n",
        "\n",
        "\n",
        "\n",
        "*   [Clasificación de Imágenes](https://www.tensorflow.org/tutorials/keras/classification)\n",
        "*   [Clasificación de Texto](https://www.tensorflow.org/tutorials/keras/text_classification)\n",
        "*   [Regresión](https://www.tensorflow.org/tutorials/keras/regression)\n",
        "*   [Overfit y Underfit](https://www.tensorflow.org/tutorials/keras/overfit_and_underfit)\n",
        "*   [Redes neuronales convolucionales](https://www.tensorflow.org/tutorials/images/cnn)\n",
        "\n"
      ]
    },
    {
      "cell_type": "markdown",
      "metadata": {
        "id": "y_nZtYXMhkNS"
      },
      "source": [
        "# Bonus: R"
      ]
    },
    {
      "cell_type": "markdown",
      "metadata": {
        "id": "7EMjEj8uhlzD"
      },
      "source": [
        "R es un lenguaje de alto nivel como Python, muy orientado al análisis de datos y la estadística, por lo que es  una opción muy interesante para Machine Learning.\n",
        "\n",
        "R nació en 1995 como un lenguaje *open source* que contenía una gran cantidad de métodos de cálculos gráficos y estadísticos. Muchas empresas como Uber, Airbnb o Facebook lo usan.\n",
        "\n",
        "No soy un gran experto en la materia, ya que no lo he usado profesionalmente, pero a lo largo de diversas investigaciones me he visto en la necesidad de manejar proyectos en R.\n",
        "\n",
        "Algunos de los puntos fuertes de R es que no es necesario instalar dependencias externas para hacer operaciones complejas. Es un lenguaje muy optimizado para cálculos computacionales intensos y cuenta con algunos IDEs muy potentes para su uso como [RStudio](https://www.rstudio.com/products/rstudio/).\n"
      ]
    },
    {
      "cell_type": "markdown",
      "metadata": {
        "id": "kzRz1XPLjTPV"
      },
      "source": [
        "**Python vs. R**\n",
        "\n",
        "Si os estáis preguntando qué lenguaje de programación usar, la respuesta siempre es que depende del objetivo del proyecto. Incluso hay ocasiones en las que un mismo proyecto necesita de diversos lenguajes de programación para cumplir su objetivo.\n",
        "\n",
        "Dejo aquí varios recursos que exploran las bondades y deficiencias de este lenguaje de programación y lo comparan con Python en materia de Machine Learning:\n",
        "\n",
        "\n",
        "\n",
        "*   [Python vs. R: Which Should You Choose For Your Next ML Project?](https://dzone.com/articles/python-or-r-which-should-you-choose-for-your-next)\n",
        "*   [From ‘R vs Python’ to ‘R and Python’](https://towardsdatascience.com/from-r-vs-python-to-r-and-python-aa25db33ce17)\n",
        "*   [Python vs R for machine learning](https://datascience.stackexchange.com/questions/326/python-vs-r-for-machine-learning)"
      ]
    }
  ]
}
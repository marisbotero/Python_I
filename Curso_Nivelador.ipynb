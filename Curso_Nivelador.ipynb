{
  "nbformat": 4,
  "nbformat_minor": 0,
  "metadata": {
    "colab": {
      "provenance": [],
      "collapsed_sections": [
        "teBbA2TRTWLY",
        "ELjs0rpsrE_k",
        "bVdm5h0lsUc-",
        "rYX4Xhh2SKr0",
        "yqYisK9OS_Ij",
        "jd-fpptuLysW",
        "iQaVuL1u0AaT",
        "z9HIlh9C0FBl",
        "3DDV303CMYQw",
        "lBZP_wzqMZ0g",
        "odTsb_9-MWgx",
        "JjzXMluE2NHy",
        "4B8fo5O0xiCB"
      ],
      "include_colab_link": true
    },
    "kernelspec": {
      "name": "python3",
      "display_name": "Python 3"
    }
  },
  "cells": [
    {
      "cell_type": "markdown",
      "metadata": {
        "id": "view-in-github",
        "colab_type": "text"
      },
      "source": [
        "<a href=\"https://colab.research.google.com/github/marisbotero/Python_I/blob/master/Curso_Nivelador.ipynb\" target=\"_parent\"><img src=\"https://colab.research.google.com/assets/colab-badge.svg\" alt=\"Open In Colab\"/></a>"
      ]
    },
    {
      "cell_type": "markdown",
      "metadata": {
        "id": "v2Xb3dENye0O"
      },
      "source": [
        "# Curso Nivelador "
      ]
    },
    {
      "cell_type": "markdown",
      "metadata": {
        "id": "51IZVTJVyZYN"
      },
      "source": [
        "# Consejos \n",
        "\n",
        "\n",
        "\n"
      ]
    },
    {
      "cell_type": "markdown",
      "metadata": {
        "id": "DSGubOQp_BUd"
      },
      "source": [
        "En este curso intentaremos abordar los conceptos claves de Python para poder afrontar las diferentes prácticas que tendréis que realizar a lo largo del master, os dejo una serie de consejos para abordar este taller:\n",
        "\n",
        "\n",
        "*   Orienta los apuntes como una guía o manual, aquí encontrarás prácticamente todo lo que necesitas durante el master, hay poco tiempo por lo que se mencionará añadirán recursos para ampliar los conocimeintos.\n",
        "*   Intenta consultar la documentación oficial, aquí dejaré un resumen de la mayoría de los conceptos, pero es importante acudir a las guías oficiales para resolver dudas específicas.\n",
        "*   Escribe código, no te limites a leer lo que aparece, a lo largo del documento encontrarás cuadros en los que escribir tu código y probar todo lo visto.\n",
        "*   Ser realistas con los objetivos, programar es algo complejo, se requiere de tiempo y práctica, si no se tiene experiencia previa es necesario un tiempo amplio para adquirir un mínimo de conocimientos, pero siguiendo este curso podrás adquirir conocimientos básicos para seguir ampliando luego por tu cuenta."
      ]
    },
    {
      "cell_type": "markdown",
      "metadata": {
        "id": "tPqiw16_8rpK"
      },
      "source": [
        "Algunos de los recursos más importantes sobre `Python` son:\n",
        "\n",
        "\n",
        "*   [Documentación Oficial de Python](https://docs.python.org/3/contents.html)\n",
        "*   [Guía de Python](https://www.learnpython.org)\n",
        "*   [Tutorial de Python en Español](https://www.tutorialpython.com)\n",
        "\n",
        "\n"
      ]
    },
    {
      "cell_type": "markdown",
      "metadata": {
        "id": "hwZbdwTZydkS"
      },
      "source": [
        "#<img alt=\"Colaboratory logo\" height=\"45px\" src=\"https://colab.research.google.com/img/colab_favicon.ico\" align=\"left\" hspace=\"10px\" vspace=\"0px\"> <h1>Colaboratory</h1>\n"
      ]
    },
    {
      "cell_type": "markdown",
      "metadata": {
        "id": "FBm29BED_MEv"
      },
      "source": [
        "Colaboratory es un entorno basado en [Jupyter Notebook](https://jupyter.org/) que permite ejecutar código en Python sin ningún tipo de requerimiento ni instalaciones previas.\n",
        "\n",
        "Con Colaboratory puedes escribir y ejecutar código, guardar y visualizar las analíticas y acceder a recursos computacionales desde el navegador.\n",
        "\n",
        "El documento que estás leyendo es un *Jupyter notebook* alojado en Colaboratory. No es una página estática, es un entorno dinámico que permite escribir y ejectuar código en *Python 3*.\n",
        "\n",
        "Por ejemplo aquí tenemos una **celda de código** con un pequeño script en *Python* que realiza una operación aritmética y guarda el resultado en una variable, imprimiendo el resultado en pantalla, lo único que hay que hacer es pulsar entre los dos paréntesis [     ]"
      ]
    },
    {
      "cell_type": "code",
      "metadata": {
        "id": "0dWmvq4dBJsD",
        "colab": {
          "base_uri": "https://localhost:8080/"
        },
        "outputId": "fdc12d3b-f469-46b9-c0ba-199e61f36256"
      },
      "source": [
        "# My first program\n",
        "seconds_in_a_day = 24 * 60 * 60\n",
        "print(seconds_in_a_day)"
      ],
      "execution_count": 1,
      "outputs": [
        {
          "output_type": "stream",
          "name": "stdout",
          "text": [
            "86400\n"
          ]
        }
      ]
    },
    {
      "cell_type": "markdown",
      "metadata": {
        "id": "teBbA2TRTWLY"
      },
      "source": [
        "### Ejercicio\n"
      ]
    },
    {
      "cell_type": "markdown",
      "metadata": {
        "id": "gC_q3xS40pGf"
      },
      "source": [
        "Escribe un script que enseñe los minutos que hay en un día"
      ]
    },
    {
      "cell_type": "code",
      "metadata": {
        "id": "Rrqirr3nBuWQ"
      },
      "source": [
        "# TODO Write a program to display minutes in a day\n",
        "def convert_to_preferred_format(sec):\n",
        "   sec = sec % (24 * 3600)\n",
        "   hour = sec // 3600\n",
        "   sec %= 3600\n",
        "   min = sec // 60\n",
        "   sec %= 60\n",
        "   print(\"seconds value in hours:\",hour)\n",
        "   print(\"seconds value in minutes:\",min)\n",
        "   return \"%02d:%02d:%02d\" % (hour, min, sec) \n",
        "\n",
        "n = 10000\n"
      ],
      "execution_count": 5,
      "outputs": []
    },
    {
      "cell_type": "markdown",
      "source": [
        "#<img alt=\"Colaboratory logo\" height=\"45px\" src=\"https://anaconda.org/static/img/anaconda-symbol.svg\" align=\"left\" hspace=\"10px\" vspace=\"0px\"> <h1>Anaconda</h1>"
      ],
      "metadata": {
        "id": "VH_NvtME7lUu"
      }
    },
    {
      "cell_type": "markdown",
      "source": [
        "[Anaconda](https://www.anaconda.com/) es una plataforma enfocada a *Data Science* que permite gestionar **entornos virtuales**, **repositorios de python** y **herramientas de edición y visualización**.\n",
        "\n",
        "La instalación es muy sencilla, solo hay que acceder a la sección de [descargas individuales](https://www.anaconda.com/products/individual), elegir el sistema operativo y posteriormente ejecutar el programa.\n",
        "\n",
        "Para una explicación más detallada de la instalación de Anaconda podéis acudir a la [guía oficial](https://docs.anaconda.com/anaconda/install/)\n",
        "\n"
      ],
      "metadata": {
        "id": "afKNvHwA8lh6"
      }
    },
    {
      "cell_type": "markdown",
      "source": [
        "## Uso\n",
        "\n",
        "El uso principal que vamos a darle es la ejecución de [cuadernos de Jupyter](https://jupyter.org/), para ello, es tan sencillo como pulsar el botón de \"Ejecutar\" dentro del panel inicial.\n",
        "\n",
        "![Anaconda](https://user-images.githubusercontent.com/16117276/149234834-9f906a18-6bff-4fde-b940-dfbea7accd3f.png)"
      ],
      "metadata": {
        "id": "ELjs0rpsrE_k"
      }
    },
    {
      "cell_type": "markdown",
      "source": [
        "## Cuaderno Jupyter\n",
        "\n",
        "Los *Jupyter notebooks* son documentos que combinan código ejecutable con texto en formato *Markdown*, ecuaciones *(LaTeX)*, imágenes, visualizaciones interactivas y otros formatos interactivos.\n",
        "\n",
        "Estos entornos permiten ejecutar código Python en nuestro navegador e intercalar información, muy útil en el mundo del data Science."
      ],
      "metadata": {
        "id": "bVdm5h0lsUc-"
      }
    },
    {
      "cell_type": "markdown",
      "source": [
        "## Puesta en marcha\n",
        "\n",
        "Al descargar Anaconda, vamos a tener un **Entorno** creado por defecto llamado `base (root)`.\n",
        "\n",
        "En este enrorno podremos configurar y manejar las diferentes dependencias que podamos utilizar en nuestras aplicaciones.\n",
        "\n",
        "Para crear un nuevo entorno solo tendremos que pulsar el boton **create** y elegir la versión de Python en la que estará basada.\n",
        "\n",
        "![Jupyter Env](https://user-images.githubusercontent.com/16117276/205095794-c77cac61-911c-4506-87d0-f74f6f511b12.png)\n"
      ],
      "metadata": {
        "id": "rYX4Xhh2SKr0"
      }
    },
    {
      "cell_type": "markdown",
      "source": [
        "## Cargar un cuaderno\n",
        "\n",
        "Jupyter maneja ficheros con el formato `.ipynb`. Podemos encontrar un ejemplo en la sección del curso: \n",
        "\n",
        "**Recursos obligatorios -> Semana 2 -> Jupyter Notebooks de soporte -> Ejemplo de Regresión Lineal - Jupyter Notebook**\n",
        "\n",
        "Una vez descargado, para cargar el cuaderno:\n",
        "\n",
        "\n",
        "\n",
        "1.   Dentro de Anaconda, lanzamos Jupyter Notebook.\n",
        "2.   Ahora dentro del navegador tendremos una instancia de Jupyter en la que navegar nuestro directorio.\n",
        "3.   Dirígete a la carpeta donde hayas descargado el fichero anterior\n",
        "4.   Haz click el fichero para lanzar una nueva instancia de Jupyter.\n",
        "\n",
        "Ahora, podremos usarlo de manera similar a lo que hemos visto en Google Colab.\n",
        "\n",
        "![Jupyter Setup](https://user-images.githubusercontent.com/16117276/205095783-17a7e00f-91a1-4c09-a607-0a7d367bea55.png)\n"
      ],
      "metadata": {
        "id": "yqYisK9OS_Ij"
      }
    },
    {
      "cell_type": "markdown",
      "metadata": {
        "id": "E0EyqYFI6LUW"
      },
      "source": [
        "#Python\n",
        "\n",
        "\n"
      ]
    },
    {
      "cell_type": "markdown",
      "metadata": {
        "id": "UO9RdcCjChdE"
      },
      "source": [
        "**Python** es un lenguaje de propósito general, interpretado, interactivo, orientado objetos y de alto nivel. Python se ha hecho muy popular debido a su sintaxis clara, la facilidad como lenguaje para crear *scripts* y la cantidad de librerías populares que permiten solventar casi cualquier problema con el que el programador se enfrente.\n",
        "\n",
        "\n"
      ]
    },
    {
      "cell_type": "markdown",
      "metadata": {
        "id": "baEM63WoMdAy"
      },
      "source": [
        "Otra de las ventajas de *Python* es que se encuentra presente en Windows, macOS y la mayoría de distribuciones de Linux. Para poder utilizar este lenguaje es necesario primero hacer una instalación previa, pero como hemos comentado previamente, al utilizar un *Jupiter Notebook* podremos ejecutar aquí código sin necesidad de esa configuración."
      ]
    },
    {
      "cell_type": "markdown",
      "metadata": {
        "id": "LlvZg3mu6Ww3"
      },
      "source": [
        "## Hola Mundo\n",
        "\n"
      ]
    },
    {
      "cell_type": "code",
      "metadata": {
        "id": "Lw9zfB076cUC",
        "colab": {
          "base_uri": "https://localhost:8080/"
        },
        "outputId": "da35bd51-babd-4656-93db-75acab53ff56"
      },
      "source": [
        "# First program\n",
        "print(\"Hello World\")"
      ],
      "execution_count": null,
      "outputs": [
        {
          "output_type": "stream",
          "name": "stdout",
          "text": [
            "Hello World\n"
          ]
        }
      ]
    },
    {
      "cell_type": "markdown",
      "metadata": {
        "id": "D2PAKIyG61Qw"
      },
      "source": [
        "Aquí podemos ver nuestro primer programa en Python. Tan sencillo como escribir una línea de código para que se imprima en pantalla el mensaje que queramos."
      ]
    },
    {
      "cell_type": "markdown",
      "metadata": {
        "id": "7lVKI_J5Lg49"
      },
      "source": [
        "# Instalación de Python"
      ]
    },
    {
      "cell_type": "markdown",
      "metadata": {
        "id": "iSxp2un5d5p-"
      },
      "source": [
        "Lo primero y más importante, hay que comprobar si ya está instalado pyhton y qué versión tiene nuestra máquina, para ello tenemos que abrir una terminal y escribir el siguiente comando:\n",
        "\n",
        "```\n",
        "> python\n",
        "```\n",
        "\n",
        "![Python 3 Terminal](https://drive.google.com/uc?export=view&id=12LzJbor1vSK5flR95-hPBdyX1Ze169Oj)\n",
        "\n",
        "\n"
      ]
    },
    {
      "cell_type": "markdown",
      "metadata": {
        "id": "v2fI_1quDxHh"
      },
      "source": [
        "Hay distintas formas de instalación:\n",
        "\n",
        "\n",
        "**Windows**\n",
        "1. Descargar el binario de la [web oficial](https://www.python.org/downloads/).\n",
        "2. Ejecutar el instalador\n",
        "\n",
        "\n",
        "**macOS**\n",
        "1. Descargar homebrew ejecutando en terminal\n",
        "```\n",
        "> sudo ruby -e \"$(curl -fsSL https://raw.githubusercontent.com/Homebrew/install/master/install)\"\n",
        "```\n",
        "\n",
        "2. Ejecutar el siguiente comando\n",
        "```\n",
        "> brew install python\n",
        "```\n",
        "\n",
        "**ubuntu**\n",
        "1. Ejecutar:\n",
        "```\n",
        "> sudo apt-get update\n",
        "> sudo apt-get install python3.7\n",
        "```\n",
        "\n"
      ]
    },
    {
      "cell_type": "markdown",
      "metadata": {
        "id": "IJPsSd4cLvrB"
      },
      "source": [
        "# Interprete Interactivo Python"
      ]
    },
    {
      "cell_type": "markdown",
      "metadata": {
        "id": "RUt6WuloXTyf"
      },
      "source": [
        "Hay dos formas de invocar al interprete de Python, a través del **interprete interactivo** o ejecutando un script desde la linea de comandos. Estas ejecuciones corresponden con las opciones del interprete:\n",
        "\n",
        "\n",
        "\n",
        "```\n",
        "python [-bBdEhiIOqsSuvVWx?] [-c command | -m module-name | script | - ] [args]\n",
        "```\n",
        "\n",
        "```\n",
        "> python file.py\n",
        "```\n",
        "\n",
        "\n",
        "\n",
        "\n",
        "\n",
        "\n"
      ]
    },
    {
      "cell_type": "markdown",
      "metadata": {
        "id": "jd-fpptuLysW"
      },
      "source": [
        "## IDEs"
      ]
    },
    {
      "cell_type": "markdown",
      "metadata": {
        "id": "n7siH76Lw2QU"
      },
      "source": [
        "IDE es el acrónimo de *Integrated Development Environment* o Entorno de Desarrollo Integrado. La verdad es que se puede programar Python directamente desde la terminal con editores de texto como *nano* o *vim*. O utilizar editores del sistema como Notepad para windows.\n",
        "\n",
        "La razón principal de usar un IDE es que están orientados específicamente al desarrollo, por lo que puede mejorar la productividad del desarrollador, incorporar plugins y herramientas que mejoren el proceso de trabajo como autocompletados, linter para errores y extensiones para múltiples acciones como dar formato al código o visualizarlo de una forma más sencilla, con ello, voy a poner varios de los IDEs más famosos actualmente:\n",
        "\n",
        "*   [Visual Studio Code](https://code.visualstudio.com/)\n",
        "*   [Atom](https://atom.io/)\n",
        "*   [Pycharm](https://www.jetbrains.com/pycharm/)\n",
        "*   [https://jupyter.org/](https://jupyter.org/)\n",
        "\n"
      ]
    },
    {
      "cell_type": "markdown",
      "metadata": {
        "id": "evpBN8P-wy5b"
      },
      "source": [
        "# Análisis Léxico"
      ]
    },
    {
      "cell_type": "markdown",
      "metadata": {
        "id": "uWxMsIx7w2t9"
      },
      "source": [
        "El análisis léxico engloba a todos los tokens especiales que puede interpretar el interprete de Python.\n",
        "\n",
        "En la [guía oficial](https://docs.python.org/3/reference/lexical_analysis.html) se puede ver en más profundidad estos términos."
      ]
    },
    {
      "cell_type": "markdown",
      "metadata": {
        "id": "KA-Nedxqy7KC"
      },
      "source": [
        "### Identificadores y palabras reservadas\n",
        "\n"
      ]
    },
    {
      "cell_type": "markdown",
      "metadata": {
        "id": "e4tN92RCOV2g"
      },
      "source": [
        "Los identificadores son nombres usados para identificar una variable, función, clase, módulo u otro objeto. Los identificadores pueden empezar con letras (A-Za-z), números (0-9) o una barra baja (_).\n",
        "\n",
        "Python es un lenguaje que distingue entre mayúsculas y minúsculas, por lo que **Variable** y **variable** son dos identificadores diferentes en *Python*.\n",
        "\n",
        "\n",
        "\n",
        "\n"
      ]
    },
    {
      "cell_type": "code",
      "metadata": {
        "id": "hdpGs26rSzz8",
        "colab": {
          "base_uri": "https://localhost:8080/"
        },
        "outputId": "87819cbe-3662-4fe9-cb42-f1cff8f9e816"
      },
      "source": [
        "# Identifiers\n",
        "\n",
        "years_person = 10\n",
        "# yearPerson = 10\n",
        "# firstIdentifier = 10\n",
        "\n",
        "second_identifier = \"Hello\"\n",
        "\n",
        "third_identifier = { \"hello\": \"world\" }\n",
        "_private_identifier = \"Private\"\n",
        "\n",
        "if __name__ == \"__main__\":\n",
        "  print(\"This is a magic method\")\n",
        "  print(years_person)\n",
        "  print(third_identifier)"
      ],
      "execution_count": null,
      "outputs": [
        {
          "output_type": "stream",
          "name": "stdout",
          "text": [
            "This is a magic method\n",
            "10\n",
            "{'hello': 'world'}\n"
          ]
        }
      ]
    },
    {
      "cell_type": "markdown",
      "metadata": {
        "id": "oKa39rYQy_vd"
      },
      "source": [
        "### Lineas e identación\n"
      ]
    },
    {
      "cell_type": "markdown",
      "metadata": {
        "id": "4RM0zgUFQ6LK"
      },
      "source": [
        "Python no utiliza corchetes ({}) para indicar bloques de código dentro de las clases y funciones o control de flujo. En este lenguaje se utiliza la identación para indicar bloques, y se aplica sin ningún tipo de excepción.\n",
        "\n",
        "El número de  espacios puede variar dependiendo del intérprete (se suele elegir 2 o 4) pero una vez elegido debe respetarse, por ello este ejemplo no produce ningún error:"
      ]
    },
    {
      "cell_type": "code",
      "metadata": {
        "id": "m7jHD_aqSPhI",
        "colab": {
          "base_uri": "https://localhost:8080/"
        },
        "outputId": "8a33120d-5088-4037-d2b4-344fa4f90baa"
      },
      "source": [
        "if True:\n",
        "  print(\"Success\")\n",
        "else:\n",
        "  print(\"Failed\")\n",
        "\n",
        "print(\"this is running anyway\")"
      ],
      "execution_count": null,
      "outputs": [
        {
          "output_type": "stream",
          "name": "stdout",
          "text": [
            "Success\n",
            "this is running anyway\n"
          ]
        }
      ]
    },
    {
      "cell_type": "markdown",
      "metadata": {
        "id": "DalLo6PYSVjt"
      },
      "source": [
        "Mientras que si se cambian los espacios se producirá un error, como indicará el intérprete en este trozo de código:"
      ]
    },
    {
      "cell_type": "code",
      "metadata": {
        "id": "G0C-3EJ0SdUr",
        "colab": {
          "base_uri": "https://localhost:8080/",
          "height": 132
        },
        "outputId": "45a7e0d3-1bbc-4ced-f71e-7b521ef27635"
      },
      "source": [
        "if True:\n",
        "print(\"Sucess\")\n",
        "else:\n",
        "  print(\"Failed\")"
      ],
      "execution_count": null,
      "outputs": [
        {
          "output_type": "error",
          "ename": "IndentationError",
          "evalue": "ignored",
          "traceback": [
            "\u001b[0;36m  File \u001b[0;32m\"<ipython-input-8-2d6f1689dd60>\"\u001b[0;36m, line \u001b[0;32m2\u001b[0m\n\u001b[0;31m    print(\"Sucess\")\u001b[0m\n\u001b[0m    ^\u001b[0m\n\u001b[0;31mIndentationError\u001b[0m\u001b[0;31m:\u001b[0m expected an indented block\n"
          ]
        }
      ]
    },
    {
      "cell_type": "markdown",
      "metadata": {
        "id": "ux7Fx1y1TO46"
      },
      "source": [
        "Hay algunas excepciones como las listas o la palabra reservada `\\`"
      ]
    },
    {
      "cell_type": "markdown",
      "metadata": {
        "id": "cLxlHPVtzBD2"
      },
      "source": [
        "### **Comentarios**"
      ]
    },
    {
      "cell_type": "markdown",
      "metadata": {
        "id": "DwxGP42iTfDI"
      },
      "source": [
        "El símbolo de la almohadilla (#) representa un comentario en Python, toda cadena que precede a este símbolo en una misma linea es considerado un comentario en Python y es tratado así por el interprete. Además de esto contamos con tres comillas para comentarios multilinea."
      ]
    },
    {
      "cell_type": "code",
      "metadata": {
        "id": "apNwLm3RUCLv",
        "colab": {
          "base_uri": "https://localhost:8080/",
          "height": 35
        },
        "outputId": "a2f0210d-d040-4aa1-d030-22fe38806c16"
      },
      "source": [
        "# This is a comment\n",
        "\n",
        "test = \"string\" # You can place a comment after a line of code\n",
        "\n",
        "\n",
        "'''\n",
        "This is a multiline comment\n",
        "You can write multiple statements between the quotes\n",
        "\n",
        "\n",
        "\n",
        "'''\n"
      ],
      "execution_count": null,
      "outputs": [
        {
          "output_type": "execute_result",
          "data": {
            "text/plain": [
              "'\\nThis is a multiline comment\\nYou can write multiple statements between the quotes\\n\\n\\n\\n'"
            ],
            "application/vnd.google.colaboratory.intrinsic+json": {
              "type": "string"
            }
          },
          "metadata": {},
          "execution_count": 10
        }
      ]
    },
    {
      "cell_type": "markdown",
      "metadata": {
        "id": "HDHojXQj7Ey1"
      },
      "source": [
        "# Variables y Tipos\n"
      ]
    },
    {
      "cell_type": "markdown",
      "metadata": {
        "id": "SLNLqX7qVHFl"
      },
      "source": [
        "Una variable es un espacio de memoria reservado dentro de una computadora para almacenar valores. En python la declaración se realiza al asignar un valor a una variable con el símbolo igual (=)\n"
      ]
    },
    {
      "cell_type": "code",
      "metadata": {
        "id": "xX0keeZb86ox",
        "colab": {
          "base_uri": "https://localhost:8080/"
        },
        "outputId": "2699847a-8a39-4658-d5bc-1a4bd0ab24e5"
      },
      "source": [
        "# Variable asignment\n",
        "pi_number = 3.14\n",
        "\n",
        "print(pi_number)\n",
        "\n",
        "pi_number = \"hello world\"\n",
        "# Output variable\n",
        "print(pi_number)"
      ],
      "execution_count": null,
      "outputs": [
        {
          "output_type": "stream",
          "name": "stdout",
          "text": [
            "3.14\n",
            "hello world\n"
          ]
        }
      ]
    },
    {
      "cell_type": "markdown",
      "metadata": {
        "id": "JhAa5Ikc8ccd"
      },
      "source": [
        "### Números"
      ]
    },
    {
      "cell_type": "markdown",
      "metadata": {
        "id": "0Ra_zkiRyLtv"
      },
      "source": [
        "El primer tipo de dato en *Python* que vamos a ver son números. Los números son objetos creados cuando asignas un valor numérico a una variable.\n",
        "\n",
        "*Python* soporta tres tipos de números:\n",
        "\n",
        "\n",
        "*   int: Enteros con signo (Python 3 aúna int y long)\n",
        "*   float: Números reales con coma flotante\n",
        "*   complex: Números complejos\n"
      ]
    },
    {
      "cell_type": "code",
      "metadata": {
        "id": "4P8uPS_H8fYA",
        "colab": {
          "base_uri": "https://localhost:8080/"
        },
        "outputId": "ec6561af-324b-40c5-d146-40c92ae0aa7c"
      },
      "source": [
        "# Number examples\n",
        "\n",
        "# Integer\n",
        "int_number = 10\n",
        "print(int_number)\n",
        "# Float\n",
        "float_number = 12.40013243\n",
        "print(float_number)\n",
        "# Complex\n",
        "complex_number = 3.14j\n",
        "print(complex_number)\n"
      ],
      "execution_count": null,
      "outputs": [
        {
          "output_type": "stream",
          "name": "stdout",
          "text": [
            "10\n",
            "12.40013243\n",
            "3.14j\n"
          ]
        }
      ]
    },
    {
      "cell_type": "markdown",
      "metadata": {
        "id": "VB1GGlM801iy"
      },
      "source": [
        "Algunas de las operaciones más importantes se pueden ver en su [documentación oficial](https://docs.python.org/3/library/stdtypes.html#numeric-types-int-float-complex)"
      ]
    },
    {
      "cell_type": "markdown",
      "metadata": {
        "id": "GKMBIsIQ8jzm"
      },
      "source": [
        "### Cadenas\n",
        "\n"
      ]
    },
    {
      "cell_type": "markdown",
      "metadata": {
        "id": "pnlgUDGw0Fxk"
      },
      "source": [
        "Las cadenas en Python se definen como una concatenación de caracteres representados entre comillas. Dentro de *Python* se pueden usar comillas simples ( ' ) o dobles ( \" ) para representar cadenas."
      ]
    },
    {
      "cell_type": "code",
      "metadata": {
        "id": "LyqTQuJQ8l2F",
        "colab": {
          "base_uri": "https://localhost:8080/"
        },
        "outputId": "8cb3400f-a2d5-49cb-a01d-412bca97f4c1"
      },
      "source": [
        "# String examples\n",
        "name_person = 'Hello World'\n",
        "char = \"H\"\n",
        "str_2 = \"Hello World again\"\n",
        "\n",
        "print(char)\n",
        "print(str_2)\n",
        "print(name_person + \"  ->  \" + char)\n",
        "print(\"==============\")\n",
        "# Substrings\n",
        "\n",
        "str1 = 'Hello World'\n",
        "str2 = 'Hello World again'\n",
        "\n",
        "print(str1[0]) # Prints first char\n",
        "print(str1[0:5]) # Prints first char\n",
        "print(str1[6:]) # Prints substring from second to sixth character\n",
        "print(str1[:7])"
      ],
      "execution_count": null,
      "outputs": [
        {
          "output_type": "stream",
          "name": "stdout",
          "text": [
            "H\n",
            "Hello World again\n",
            "Hello World  ->  H\n",
            "==============\n",
            "H\n",
            "Hello\n",
            "World\n",
            "Hello W\n"
          ]
        }
      ]
    },
    {
      "cell_type": "markdown",
      "metadata": {
        "id": "fylAKUtKzIAg"
      },
      "source": [
        "Algunas operaciones se pueden ver en la [documentación de Python](https://docs.python.org/3/tutorial/introduction.html#strings)\n",
        "\n"
      ]
    },
    {
      "cell_type": "markdown",
      "metadata": {
        "id": "_EKod0Ah1EIr"
      },
      "source": [
        "Es posible dar formato al texto de diferentes formas, algunas incorporadas en las últimas versiones de python."
      ]
    },
    {
      "cell_type": "code",
      "metadata": {
        "id": "AlHfOfiq1J8S",
        "colab": {
          "base_uri": "https://localhost:8080/"
        },
        "outputId": "b1bee0a9-b716-4346-cc41-9d5bf946a693"
      },
      "source": [
        "# First form interpolation\n",
        "interpolation1 = \"Hello world I'm %s and I'm %d years old\" % (\"Javier\", 32)\n",
        "print(interpolation1)\n",
        "\n",
        "# Second form interpolation\n",
        "interpolation2 = \"Hello world I'm {0} and I'm {1} years old\".format(\"Javier\", 32)\n",
        "print(interpolation2)\n",
        "\n",
        "# Third form interpolation (Python 3.6)\n",
        "name = \"Lucas\"\n",
        "age = 32\n",
        "interpolation3 = f\"Hello world I'm {name} and I'm {age} years old\"\n",
        "print(interpolation3)"
      ],
      "execution_count": null,
      "outputs": [
        {
          "output_type": "stream",
          "name": "stdout",
          "text": [
            "Hello world I'm Javier and I'm 32 years old\n",
            "Hello world I'm Javier and I'm 32 years old\n",
            "Hello world I'm Lucas and I'm Lucas years old\n"
          ]
        }
      ]
    },
    {
      "cell_type": "markdown",
      "metadata": {
        "id": "FjMVV7rU3p4Q"
      },
      "source": [
        "Artículo sobre los distintos métodos de interpolación: \n",
        "\n",
        "https://realpython.com/python-f-strings/\n"
      ]
    },
    {
      "cell_type": "markdown",
      "metadata": {
        "id": "j7Cl9DOb8nvN"
      },
      "source": [
        "### Listas\n",
        "\n"
      ]
    },
    {
      "cell_type": "markdown",
      "metadata": {
        "id": "0dFymKqbqgYt"
      },
      "source": [
        "Las listas son colecciones ordenadas de elementos que pueden no ser del mismo tipo. En python las listas se definen con valores separados por comas contenidos entre corchetes."
      ]
    },
    {
      "cell_type": "code",
      "metadata": {
        "id": "4ptZAdURrCiW",
        "colab": {
          "base_uri": "https://localhost:8080/"
        },
        "outputId": "54133614-1c70-4f67-a90e-175c5171a119"
      },
      "source": [
        "list_example_strings = [\"Hello\", \"World\", \"I'm\", \"John\"]\n",
        "print(list_example_strings)\n",
        "list_example_mix = [\"Hello\", 2, \"Number\", 16]\n",
        "print(list_example_mix)\n",
        "list_example_mix_crazy = [\"Hello\", [\"hello\", \"world\"], \"Number\", 16]\n",
        "print(list_example_mix_crazy)\n",
        "\n",
        "#accessing values\n",
        "element1 = list_example_strings[0]\n",
        "print(element1)\n",
        "\n",
        "# Error\n",
        "#element_fail = list_example_strings[9]\n",
        "#print(element_fail)\n",
        "\n",
        "print(\"===========\")\n",
        "\n",
        "# Add element\n",
        "first_list = [\"Hello\", \"World\"]\n",
        "first_list.append(\"Again\")\n",
        "first_list.insert(0, \"****\")\n",
        "print(len(first_list))\n",
        "print(first_list)\n",
        "\n",
        "\n",
        "print(\"===========\")\n",
        "\n",
        "# Update element\n",
        "updating_list = [\"Hello\", \"World\", 2017]\n",
        "updating_list[2] = 2021\n",
        "print(updating_list)\n",
        "\n",
        "# Slicing\n",
        "list_example = [\"Hello\", \"World\", \"I'm\", \"John\"]\n",
        "print(list_example[1:])\n",
        "\n",
        "# Simple indexing\n",
        "simple_index = list_example[-1]\n",
        "print(simple_index)"
      ],
      "execution_count": null,
      "outputs": [
        {
          "output_type": "stream",
          "name": "stdout",
          "text": [
            "['Hello', 'World', \"I'm\", 'John']\n",
            "['Hello', 2, 'Number', 16]\n",
            "['Hello', ['hello', 'world'], 'Number', 16]\n",
            "Hello\n",
            "===========\n",
            "4\n",
            "['****', 'Hello', 'World', 'Again']\n",
            "===========\n",
            "['Hello', 'World', 2021]\n",
            "['World', \"I'm\", 'John']\n",
            "Hello\n"
          ]
        }
      ]
    },
    {
      "cell_type": "code",
      "metadata": {
        "id": "hyTxT7X67cNL"
      },
      "source": [
        "print(\"\\\"Hola\\\"\")"
      ],
      "execution_count": null,
      "outputs": []
    },
    {
      "cell_type": "markdown",
      "metadata": {
        "id": "DQMfpPHGX6Hw"
      },
      "source": [
        "Para ampliar sobre operadores, accesos, optimización y sintáxis podéis acceder a su [documentación](https://docs.python.org/3/tutorial/introduction.html#lists)"
      ]
    },
    {
      "cell_type": "markdown",
      "metadata": {
        "id": "NQFVcRwI8rkp"
      },
      "source": [
        "### Tuplas\n"
      ]
    },
    {
      "cell_type": "markdown",
      "metadata": {
        "id": "s0pmF0vgHof-"
      },
      "source": [
        "Las tuplas son secuencias inmutables de objetos en Python. Son muy parecidas a las listas con la diferencia que las listas es un conjunto de elementos variables mientras que las tuplas son inmutables. Para crear una tupla, se definen unos valores separados por comas contenidos entre paréntesis."
      ]
    },
    {
      "cell_type": "code",
      "metadata": {
        "id": "m4tN1bWyJ61b",
        "colab": {
          "base_uri": "https://localhost:8080/"
        },
        "outputId": "fc4e0a37-e194-41e8-a6da-6a7c7ff08fe2"
      },
      "source": [
        "# Tuple examples\n",
        "tuple_example_mix = (\"Hello\", 2, \"Number\", 16)\n",
        "print(tuple_example_mix)\n",
        "\n",
        "tuple_not_parentesis = \"hello\", \"world\"\n",
        "print(tuple_not_parentesis)\n",
        "\n",
        "# tuples in functions\n",
        "def get_tuple():\n",
        "  return \"Hello\", \"World\"\n",
        "\n",
        "hello, world = get_tuple()\n",
        "\n",
        "print(f\"{hello} {world}\")\n",
        "print(hello)\n",
        "print(world)"
      ],
      "execution_count": null,
      "outputs": [
        {
          "output_type": "stream",
          "name": "stdout",
          "text": [
            "('Hello', 2, 'Number', 16)\n",
            "('hello', 'world')\n",
            "Hello World\n",
            "Hello\n",
            "World\n"
          ]
        }
      ]
    },
    {
      "cell_type": "markdown",
      "metadata": {
        "id": "iTiWumA44I9F"
      },
      "source": [
        "Listas y Tuplas, artículo de refuerzo: \n",
        "\n",
        "https://realpython.com/python-lists-tuples/\n"
      ]
    },
    {
      "cell_type": "markdown",
      "metadata": {
        "id": "iP6R1L7M8vo-"
      },
      "source": [
        "### Diccionario"
      ]
    },
    {
      "cell_type": "markdown",
      "metadata": {
        "id": "jhTVMJ_YL-jd"
      },
      "source": [
        "Los diccionarios son una colección de valores sin orden que pueden intercambiarse y están indexados por una clave. Estas claves deben ser únicas, es decir, no puede haber repetición y mientras que el valor los valores puede mutar, las claves son inmutables."
      ]
    },
    {
      "cell_type": "code",
      "metadata": {
        "id": "2Peoql1pNPZ_",
        "colab": {
          "base_uri": "https://localhost:8080/"
        },
        "outputId": "78084ce6-a1c2-4628-fb52-d98d193516a5"
      },
      "source": [
        "# Dictionary definition\n",
        "empty_dict = {}\n",
        "print(empty_dict)\n",
        "string_dict = {\"first\": \"Hello\", \n",
        "               \"second\": \"World\"}\n",
        "print(f'{string_dict[\"first\"]} {string_dict[\"second\"]}')\n",
        "\n",
        "# Accesing Values\n",
        "string_dict = {\"first\": \"Hello\", \"second\": \"World\"}\n",
        "ex_str = string_dict[\"first\"]\n",
        "print(ex_str)\n",
        "\n",
        "# Adding values\n",
        "dict_test = {\"first\": \"Hello\", \"second\": \"World\"}\n",
        "dict_test[\"third\"] = \"!\"\n",
        "print(dict_test)\n",
        "\n",
        "# Updating element\n",
        "dict_test = {\"first\": \"Hi\", \"second\": \"World\"}\n",
        "print(f\"We have this {dict_test}\")\n",
        "dict_test[\"first\"] = \"Hello\"\n",
        "print(f\"We have this {dict_test}\")"
      ],
      "execution_count": null,
      "outputs": [
        {
          "output_type": "stream",
          "name": "stdout",
          "text": [
            "{}\n",
            "Hello World\n",
            "Hello\n",
            "{'first': 'Hello', 'second': 'World', 'third': '!'}\n",
            "We have this {'first': 'Hi', 'second': 'World'}\n",
            "We have this {'first': 'Hello', 'second': 'World'}\n"
          ]
        }
      ]
    },
    {
      "cell_type": "markdown",
      "metadata": {
        "id": "QYOFtsdNPYds"
      },
      "source": [
        "Para conocer los métodos y funciones de los diccionarios [podéis visitar la documentación oficial](https://docs.python.org/3/tutorial/datastructures.html?highlight=dictionary#dictionaries)\n"
      ]
    },
    {
      "cell_type": "markdown",
      "metadata": {
        "id": "kWLu227B7yte"
      },
      "source": [
        "# Operadores\n",
        "\n"
      ]
    },
    {
      "cell_type": "markdown",
      "metadata": {
        "id": "uGxK6poISI57"
      },
      "source": [
        "Los operadores son construcciones de Python que pueden manipular el valor de los operandos."
      ]
    },
    {
      "cell_type": "markdown",
      "metadata": {
        "id": "UEWONKZc8QlM"
      },
      "source": [
        "### Operadores Aritméticos\n",
        "\n"
      ]
    },
    {
      "cell_type": "markdown",
      "metadata": {
        "id": "uLhYGD1hPy1T"
      },
      "source": [
        "Los operadores aritméticos  modifican el valor de una variable."
      ]
    },
    {
      "cell_type": "code",
      "metadata": {
        "id": "tx_sso228WsF",
        "colab": {
          "base_uri": "https://localhost:8080/"
        },
        "outputId": "c3e477e1-9523-4b78-dbe9-27c0ce71afa2"
      },
      "source": [
        "# Ejemplo de operador aritmético\n",
        "a = 30\n",
        "b = 50\n",
        "\n",
        "# Addition\n",
        "add = a + b\n",
        "print(f\"add: {add}\")\n",
        "\n",
        "# Subtraction\n",
        "sub = a - b\n",
        "print(f\"sub: {sub}\")\n",
        "\n",
        "# Multiplication\n",
        "mul = a * b\n",
        "print(f\"mul: {mul}\")\n",
        "\n",
        "# Division\n",
        "div = a / b\n",
        "print(f\"div: {div}\")\n",
        "\n",
        "# Module\n",
        "modd = b % a\n",
        "print(f\"modd: {modd}\")\n",
        "\n",
        "# Exponent\n",
        "exp = a**b\n",
        "print(f\"exp: {exp}\")"
      ],
      "execution_count": null,
      "outputs": [
        {
          "output_type": "stream",
          "name": "stdout",
          "text": [
            "add: 80\n",
            "sub: -20\n",
            "mul: 1500\n",
            "div: 0.6\n",
            "modd: 20\n",
            "exp: 71789798769185258877024900000000000000000000000000000000000000000000000000\n"
          ]
        }
      ]
    },
    {
      "cell_type": "markdown",
      "metadata": {
        "id": "I681MK9s9Dc1"
      },
      "source": [
        "### Operadores de comparación"
      ]
    },
    {
      "cell_type": "markdown",
      "metadata": {
        "id": "Ym0Esv58Qj7m"
      },
      "source": [
        "Comparan los valores de ambos lados de la operación y decide la relación entre ambos."
      ]
    },
    {
      "cell_type": "code",
      "metadata": {
        "id": "glH-hslJ9GGy",
        "colab": {
          "base_uri": "https://localhost:8080/"
        },
        "outputId": "ec82b7d0-571b-4531-f89f-1311d13614aa"
      },
      "source": [
        "# Ejemplos de operadores de comparación\n",
        "a = 30\n",
        "b = 50\n",
        "\n",
        "# Equality\n",
        "eq = a == b\n",
        "print(f\"eq: {eq}\")\n",
        "\n",
        "# Inequality\n",
        "ieq = a != b\n",
        "print(f\"ieq: {ieq}\")\n",
        "\n",
        "# Greater\n",
        "gt = a > b\n",
        "print(f\"gt: {gt}\")\n",
        "\n",
        "# Less\n",
        "ls = a < b\n",
        "print(f\"ls: {ls}\")\n",
        "\n",
        "# Greater or equal\n",
        "gteq = a >= b\n",
        "print(f\"gteq: {gteq}\")\n",
        "\n",
        "# Less or equal\n",
        "lseq = a <= b\n",
        "print(f\"lseq: {lseq}\")\n"
      ],
      "execution_count": null,
      "outputs": [
        {
          "output_type": "stream",
          "name": "stdout",
          "text": [
            "eq: False\n",
            "ieq: True\n",
            "gt: False\n",
            "ls: True\n",
            "gteq: False\n",
            "lseq: True\n"
          ]
        }
      ]
    },
    {
      "cell_type": "markdown",
      "metadata": {
        "id": "IQi4sIX29IFC"
      },
      "source": [
        "### Operadores de asignación"
      ]
    },
    {
      "cell_type": "markdown",
      "metadata": {
        "id": "EKSA3-SWOQxS"
      },
      "source": [
        "Hemos visto estos operadores reiteradamente, pero vamos a explicar ahora las propiedades de algunos de ellos."
      ]
    },
    {
      "cell_type": "code",
      "metadata": {
        "id": "tRoElKRT9K4L",
        "colab": {
          "base_uri": "https://localhost:8080/"
        },
        "outputId": "54906d96-9ad4-4a9f-b4ce-96716856c129"
      },
      "source": [
        "# Ejemplos de operadores de asignación\n",
        "a = 30\n",
        "b = 50\n",
        "\n",
        "# Assignment (=)\n",
        "c = a + b\n",
        "print(c)\n",
        "\n",
        "# Addition with assignment\n",
        "c = 60\n",
        "c += a \n",
        "# c = c + a\n",
        "print(c)\n",
        "\n",
        "# Subtraction with assignment\n",
        "c = 60\n",
        "c -= a\n",
        "# c = c - a\n",
        "print(c)\n",
        "\n",
        "# Multiplication with assignment\n",
        "c = 60\n",
        "c *= a\n",
        "# c = c * a\n",
        "print(c)\n",
        "\n",
        "# Division with assignment\n",
        "c = 60\n",
        "c /= a\n",
        "# c = c / a\n",
        "print(c)"
      ],
      "execution_count": null,
      "outputs": [
        {
          "output_type": "stream",
          "name": "stdout",
          "text": [
            "80\n",
            "90\n",
            "30\n",
            "1800\n",
            "2.0\n"
          ]
        }
      ]
    },
    {
      "cell_type": "markdown",
      "metadata": {
        "id": "Wvz440HIPDJQ"
      },
      "source": [
        "### Operadores lógicos, de identidad y pertenencia"
      ]
    },
    {
      "cell_type": "markdown",
      "metadata": {
        "id": "XmtRlWwvPL1M"
      },
      "source": [
        "Vamos a agrupar tres tipos de operadores que son utilizados detro de lso controles de flujo que veremos a continuación, todos devuelven  un tipo lógico (true or false) cuando se realiza la operación."
      ]
    },
    {
      "cell_type": "code",
      "metadata": {
        "id": "1KoQYN73PfSg",
        "colab": {
          "base_uri": "https://localhost:8080/"
        },
        "outputId": "ca75e6ea-aaaf-4946-c79d-4ae2c59168e5"
      },
      "source": [
        "a = 30\n",
        "b = 50\n",
        "c = [20, 30, 70, 80]\n",
        "at = True\n",
        "bf = False\n",
        "\n",
        "# AND operator\n",
        "print(at and bf)\n",
        "print(a > b and a < b)\n",
        "\n",
        "print(\"------------\")\n",
        "\n",
        "# OR operator\n",
        "print(at or bf)\n",
        "\n",
        "print(\"------------\")\n",
        "\n",
        "# NOT operator\n",
        "print(not at)\n",
        "\n",
        "print(\"------------\")\n",
        "\n",
        "# Membership\n",
        "print(a in c)\n",
        "\n",
        "print(\"------------\")\n",
        "\n",
        "# Not Membership\n",
        "print(a not in c)\n",
        "\n",
        "print(\"------------\")\n",
        "\n",
        "# Identity\n",
        "c = a\n",
        "print(c)\n",
        "print(a)\n",
        "print(a is c)\n",
        "print(a is b)\n",
        "\n",
        "# Not identity\n",
        "print(a is not c)\n",
        "print(a is not b)\n"
      ],
      "execution_count": null,
      "outputs": [
        {
          "output_type": "stream",
          "name": "stdout",
          "text": [
            "False\n",
            "False\n",
            "------------\n",
            "True\n",
            "------------\n",
            "False\n",
            "------------\n",
            "True\n",
            "------------\n",
            "False\n",
            "------------\n",
            "30\n",
            "30\n",
            "True\n",
            "False\n",
            "False\n",
            "True\n"
          ]
        }
      ]
    },
    {
      "cell_type": "markdown",
      "metadata": {
        "id": "BK2Lxa0v9qRD"
      },
      "source": [
        "# Control de flujo\n",
        "\n"
      ]
    },
    {
      "cell_type": "markdown",
      "metadata": {
        "id": "P6izPw0XKNh2"
      },
      "source": [
        "En el nivel más elemental, un programa no es más que una ejecución secuencial de instrucciones. Esta ejecución tiene un flujo predefinido que el desarrollador querrá controlar con diversas técnicas.\n",
        "\n",
        "Para conocer más sobre el control de flujo el [tutorial que proporciona Python](https://docs.python.org/3/tutorial/controlflow.html) tiene todos los operadores necesarios."
      ]
    },
    {
      "cell_type": "markdown",
      "metadata": {
        "id": "F497nreo9xE_"
      },
      "source": [
        "### Decisión condicional"
      ]
    },
    {
      "cell_type": "code",
      "metadata": {
        "id": "H8OEWwYe94Wn",
        "colab": {
          "base_uri": "https://localhost:8080/"
        },
        "outputId": "11eb6cbe-8bba-4b34-eac8-093a99ff2ab0"
      },
      "source": [
        "# If example\n",
        "counter = 6\n",
        "if(counter == 5): #conditional test\n",
        "  print(\"We've reached 5\")\n",
        "  print(\"\")\n",
        "  print(\"\")\n",
        "print(\"i'm alwayr running\")\n",
        "\n",
        "# If..else example\n",
        "if(counter == 6):\n",
        "  print(\"We've reached 6\")\n",
        "  print(\"Hello\")\n",
        "else:\n",
        "  print(\"We've got something else\")\n",
        "\n",
        "#counter += 1\n",
        "# Nested if\n",
        "if(counter == 1):\n",
        "  print(\"We've reached 1\")\n",
        "elif(counter == 2):\n",
        "  print(\"We've reached 2\")\n",
        "elif(counter == 3):\n",
        "  print(\"We've reached 3\")  \n",
        "elif(counter == 4):\n",
        "  print(\"We've reached 4\")  \n",
        "elif(counter == 5):\n",
        "  print(\"We've reached 5\")  \n",
        "else:\n",
        "  print(\"We've got more than that\")  \n"
      ],
      "execution_count": null,
      "outputs": [
        {
          "output_type": "stream",
          "name": "stdout",
          "text": [
            "i'm alwayr running\n",
            "We've reached 6\n",
            "Hello\n",
            "We've got more than that\n"
          ]
        }
      ]
    },
    {
      "cell_type": "markdown",
      "metadata": {
        "id": "enpvkheZ96ge"
      },
      "source": [
        "### Bucle \"for\""
      ]
    },
    {
      "cell_type": "code",
      "metadata": {
        "id": "pgHJVR1X-ARZ",
        "colab": {
          "base_uri": "https://localhost:8080/"
        },
        "outputId": "43703c16-ce2c-4845-a387-342a81446f2d"
      },
      "source": [
        "# For loop example\n",
        "elements = [1,2,3,4,5,6,7,8]\n",
        "\n",
        "for element in elements:\n",
        "  print(element)\n",
        "  print(\"Hola\")\n",
        "  \n",
        "for letter in \"Hello World\":\n",
        "  print(letter)\n",
        "  \n",
        "# For loop with range\n",
        "for index, element in enumerate(elements):\n",
        "  if(index != 1):\n",
        "    print(f\"Element {element} is at index {index}\")\n",
        "  else:\n",
        "    print(\"Other thing\")"
      ],
      "execution_count": null,
      "outputs": [
        {
          "output_type": "stream",
          "name": "stdout",
          "text": [
            "1\n",
            "Hola\n",
            "2\n",
            "Hola\n",
            "3\n",
            "Hola\n",
            "4\n",
            "Hola\n",
            "5\n",
            "Hola\n",
            "6\n",
            "Hola\n",
            "7\n",
            "Hola\n",
            "8\n",
            "Hola\n",
            "H\n",
            "e\n",
            "l\n",
            "l\n",
            "o\n",
            " \n",
            "W\n",
            "o\n",
            "r\n",
            "l\n",
            "d\n",
            "Element 1 is at index 0\n",
            "Other thing\n",
            "Element 3 is at index 2\n",
            "Element 4 is at index 3\n",
            "Element 5 is at index 4\n",
            "Element 6 is at index 5\n",
            "Element 7 is at index 6\n",
            "Element 8 is at index 7\n"
          ]
        }
      ]
    },
    {
      "cell_type": "markdown",
      "metadata": {
        "id": "fXElGCPi-B_0"
      },
      "source": [
        "### Bucle \"while\""
      ]
    },
    {
      "cell_type": "code",
      "metadata": {
        "id": "1ZIMS2W9-IUX",
        "colab": {
          "base_uri": "https://localhost:8080/"
        },
        "outputId": "6d2c51e4-ffa4-4f39-8cf2-ec9901e40c05"
      },
      "source": [
        "# While loop\n",
        "counter = 1\n",
        "\n",
        "while (counter < 9):\n",
        "  print(counter)\n",
        "  counter += 1"
      ],
      "execution_count": null,
      "outputs": [
        {
          "output_type": "stream",
          "name": "stdout",
          "text": [
            "1\n",
            "2\n",
            "3\n",
            "4\n",
            "5\n",
            "6\n",
            "7\n",
            "8\n"
          ]
        }
      ]
    },
    {
      "cell_type": "code",
      "metadata": {
        "id": "3LySF0NiVm-F"
      },
      "source": [
        "# While loop infinite DO NOT EXECUTE\n",
        "\n",
        "counter = 1\n",
        "\n",
        "while (counter != 2):\n",
        "  print(counter)\n",
        "  counter += 2\n",
        "  "
      ],
      "execution_count": null,
      "outputs": []
    },
    {
      "cell_type": "markdown",
      "metadata": {
        "id": "34onjbj1MNvB"
      },
      "source": [
        "# Funciones"
      ]
    },
    {
      "cell_type": "markdown",
      "metadata": {
        "id": "M6DmpAuk1U_y"
      },
      "source": [
        "Una función es un bloque organizado de código reutilizable. Las funciones otorgan  modularidad a una aplicación y un nivel de reusabilidad. Hay varios consejos que debe seguir una función:\n",
        "\n",
        "\n",
        "\n",
        "*   Las funciones deben ser lo más nucleares posibles: Una función debe realizar una sola tarea con un objetivo claro\n",
        "*   Cualquier código que se repita en tu programa es candidato de convertirse en una función.\n",
        "*   Las funciones deben ser descriptivas en su funcionamiento: El nombre de la función debe  dar una descripción aproximada de su funcionamiento.\n",
        "\n"
      ]
    },
    {
      "cell_type": "code",
      "metadata": {
        "id": "jED7oLqi4_SC"
      },
      "source": [
        "def function_example(parameter):\n",
        "  \"\"\"DocSttring\"\"\"\n",
        "  print(parameter)\n",
        "  return"
      ],
      "execution_count": null,
      "outputs": []
    },
    {
      "cell_type": "code",
      "metadata": {
        "id": "C0sGIg_l5V_g",
        "colab": {
          "base_uri": "https://localhost:8080/"
        },
        "outputId": "7efbdfec-5640-469c-fb2a-010dcad9ec32"
      },
      "source": [
        "function_example(\"Hola Mundo\")"
      ],
      "execution_count": null,
      "outputs": [
        {
          "output_type": "stream",
          "name": "stdout",
          "text": [
            "Hola Mundo\n"
          ]
        }
      ]
    },
    {
      "cell_type": "markdown",
      "metadata": {
        "id": "t5_jbapP6GCc"
      },
      "source": [
        "Se puede realizar tantas llamadas como sea necesario, cambiando el valor de los parámetros cuando se quiera."
      ]
    },
    {
      "cell_type": "code",
      "metadata": {
        "id": "bo3K5QUe6QJ-",
        "colab": {
          "base_uri": "https://localhost:8080/"
        },
        "outputId": "fdead3ae-8e59-4967-8939-30085e403608"
      },
      "source": [
        "function_example(\"Que tal estás\")\n",
        "function_example(\"Que tal asdfasdf\")\n",
        "function_example(\"Que tal estás\")"
      ],
      "execution_count": null,
      "outputs": [
        {
          "output_type": "stream",
          "name": "stdout",
          "text": [
            "Que tal estás\n",
            "Que tal asdfasdf\n",
            "Que tal estás\n"
          ]
        }
      ]
    },
    {
      "cell_type": "markdown",
      "metadata": {
        "id": "dDRFHZ0dOS3m"
      },
      "source": [
        "## Parámetros de una función\n",
        "\n",
        "En Python pueden utilizarse cuatro tipos de argumentos en una función:\n",
        "\n",
        "\n",
        "\n"
      ]
    },
    {
      "cell_type": "markdown",
      "metadata": {
        "id": "5ZLyuRAhPCZ9"
      },
      "source": [
        "**Argumentos obligatorios**\n",
        "\n",
        "Los argumentos obligatorios son aquellos que se pasan a una función en el orden correcto y con el número exacto de variables para argumentos."
      ]
    },
    {
      "cell_type": "code",
      "metadata": {
        "id": "Dt66os2uPVCx",
        "colab": {
          "base_uri": "https://localhost:8080/"
        },
        "outputId": "b8fb5614-1838-4fd1-9d3d-2c6ede8c112e"
      },
      "source": [
        "def required_args(first, second, third):\n",
        "  print(first)\n",
        "  print(second)\n",
        "  print(third)\n",
        "  \n",
        "required_args(\"first\", \"2\", \"third\")"
      ],
      "execution_count": null,
      "outputs": [
        {
          "output_type": "stream",
          "name": "stdout",
          "text": [
            "first\n",
            "2\n",
            "third\n"
          ]
        }
      ]
    },
    {
      "cell_type": "markdown",
      "metadata": {
        "id": "71S5fnoBPgv4"
      },
      "source": [
        "**Argumentos por clave**\n",
        "\n",
        "En python también puedes referenciar a un argumento por su nombre, pudiendo así cambiar el orden de llamada."
      ]
    },
    {
      "cell_type": "code",
      "metadata": {
        "id": "JSum1l9GY8KC",
        "colab": {
          "base_uri": "https://localhost:8080/"
        },
        "outputId": "226348fb-8793-410e-add9-20cdce204f9c"
      },
      "source": [
        "def keyword_args(first, second, third):\n",
        "  print(first)\n",
        "  print(second)\n",
        "  print(third)\n",
        "\n",
        "keyword_args(first=\"first\", third=\"third\", second=\"second\")"
      ],
      "execution_count": null,
      "outputs": [
        {
          "output_type": "stream",
          "name": "stdout",
          "text": [
            "first\n",
            "second\n",
            "third\n"
          ]
        }
      ]
    },
    {
      "cell_type": "markdown",
      "metadata": {
        "id": "gMliZSlWZJ_y"
      },
      "source": [
        "**Argumentos por defecto**\n",
        "\n",
        "Un argumento por defecto es un argumento que asume su valor por defecto, estos argumentos siempre van después de los argumentos por clave y pueden ser omitidos en la llamada a la función."
      ]
    },
    {
      "cell_type": "code",
      "metadata": {
        "id": "3WJVpPfhZXSk",
        "colab": {
          "base_uri": "https://localhost:8080/"
        },
        "outputId": "b7dac260-cdc8-492a-87ec-2625f8f500f4"
      },
      "source": [
        "def default_args(first, second, third=\"third\", fourht=\"4\"):\n",
        "  print(first)\n",
        "  print(second)\n",
        "  print(third)\n",
        "  print(fourht)\n",
        "  print(\"========\")\n",
        "\n",
        "# You can call the third value\n",
        "default_args(\"first\", \"second\", \"3\")\n",
        "\n",
        "# You can ommit the value\n",
        "default_args(\"first\", \"2\")\n",
        "\n",
        "# You can change the default value\n",
        "default_args(\"first\", \"second\", fourht=\"other\")"
      ],
      "execution_count": null,
      "outputs": [
        {
          "output_type": "stream",
          "name": "stdout",
          "text": [
            "first\n",
            "second\n",
            "3\n",
            "4\n",
            "========\n",
            "first\n",
            "2\n",
            "third\n",
            "4\n",
            "========\n",
            "first\n",
            "second\n",
            "third\n",
            "other\n",
            "========\n"
          ]
        }
      ]
    },
    {
      "cell_type": "markdown",
      "metadata": {
        "id": "m35pVP9oZw-p"
      },
      "source": [
        "**Argumentos de longitud variable**\n",
        "\n",
        "En algunas funciones encontraréis los parámetros \\*args y \\*\\*kwargs. Estas son palabras reservadas que al principio es difícil de comprender. Lo primero de todo es que el nombre args y kwargs no es necesario, solo los asteriscos, pero por convenio se usan esas palabras, se podría tener \\*var y \\*\\*vars pero no suele ser muy usual.\n"
      ]
    },
    {
      "cell_type": "code",
      "metadata": {
        "id": "8OJEm5s-al-F",
        "colab": {
          "base_uri": "https://localhost:8080/"
        },
        "outputId": "ad9f7a69-2bde-4fe0-be08-3fcd7c02a759"
      },
      "source": [
        "def test_var_args(f_arg, *argv):\n",
        "    print(f\"first normal arg: {f_arg}\")\n",
        "    print(argv)\n",
        "    for arg in argv:\n",
        "        print(f\"another arg through *argv : {arg}\")\n",
        "\n",
        "test_var_args('lucas','python','ML','test')\n",
        "test_var_args('lucas','python','ML','test', 2, 3, 4, 5, 6)\n",
        "test_var_args('lucas','python','ML','test', \"asdfadsf\", 3, 4, 5, 6)"
      ],
      "execution_count": null,
      "outputs": [
        {
          "output_type": "stream",
          "name": "stdout",
          "text": [
            "first normal arg: lucas\n",
            "('python', 'ML', 'test')\n",
            "another arg through *argv : python\n",
            "another arg through *argv : ML\n",
            "another arg through *argv : test\n",
            "first normal arg: lucas\n",
            "('python', 'ML', 'test', 2, 3, 4, 5, 6)\n",
            "another arg through *argv : python\n",
            "another arg through *argv : ML\n",
            "another arg through *argv : test\n",
            "another arg through *argv : 2\n",
            "another arg through *argv : 3\n",
            "another arg through *argv : 4\n",
            "another arg through *argv : 5\n",
            "another arg through *argv : 6\n",
            "first normal arg: lucas\n",
            "('python', 'ML', 'test', 'asdfadsf', 3, 4, 5, 6)\n",
            "another arg through *argv : python\n",
            "another arg through *argv : ML\n",
            "another arg through *argv : test\n",
            "another arg through *argv : asdfadsf\n",
            "another arg through *argv : 3\n",
            "another arg through *argv : 4\n",
            "another arg through *argv : 5\n",
            "another arg through *argv : 6\n"
          ]
        }
      ]
    },
    {
      "cell_type": "markdown",
      "metadata": {
        "id": "X3u9rEV1ODCm"
      },
      "source": [
        "**Return**\n",
        "\n",
        "La palabra reservada **return** sirve para terminar una función y devolver una expresión a la linea de código que la ha llamado. Una función sin **return** es lo mismo que si devuelve None.\n",
        "\n",
        "Puede devolverse cualquier valor, y como mencionamos en el curso anterior, pueden **devolverse múltiple valores mediante tuplas.**"
      ]
    },
    {
      "cell_type": "code",
      "metadata": {
        "id": "2gKg5ozPd5Z8",
        "colab": {
          "base_uri": "https://localhost:8080/"
        },
        "outputId": "41042472-2284-4495-a606-565aa9354d82"
      },
      "source": [
        "#@title\n",
        "def simple_sum(a, b):\n",
        "  return a + b\n",
        "\n",
        "result = simple_sum(4, 2)\n",
        "simple_sum(4, 8)\n",
        "print(result)\n",
        "\n",
        "def return_none(a, b):\n",
        "  print(a + b)\n",
        "result = return_none(2,3)\n",
        "print(result)\n",
        "\n",
        "\n",
        "def increment_two_values(a, b):\n",
        "  a += 1\n",
        "  b += 1\n",
        "  return a, b\n",
        "\n",
        "inc_1, inc_2 = increment_two_values(3, 5)\n",
        "print(f\"{inc_1} and {inc_2}\")\n"
      ],
      "execution_count": null,
      "outputs": [
        {
          "output_type": "stream",
          "name": "stdout",
          "text": [
            "6\n",
            "5\n",
            "None\n",
            "4 and 6\n"
          ]
        }
      ]
    },
    {
      "cell_type": "markdown",
      "metadata": {
        "id": "PuJNUiXHMQd9"
      },
      "source": [
        "## Funciones Avanzadas"
      ]
    },
    {
      "cell_type": "markdown",
      "metadata": {
        "id": "LTaolLM5MTMG"
      },
      "source": [
        "### Funciones anónimas (Lambda)\n",
        "\n",
        "Las funciones anónimas se llaman así ya que no se declaran con la palabra reservada **def**. No necesitan identación para declarar la funcionalidad y tienen una serie de características que las hacen muy especiales:\n",
        "\n",
        "\n",
        "\n",
        "*   Utilizan la palabra reservada **lambda** para declararse\n",
        "*   Pueden tener múltiples argumentos pero solo pueden devolver  un valor por expresión\n",
        "*   Una función anónima no puede llamarse directamente, ya que **lambda** necesita una expresión.\n",
        "*   Las funciones lambda tienen su propio *namespace* y no pueden acceder variables otras que las pasadas por argumentos.\n",
        "\n",
        "La sintaxis de una función lambda sería la siguiente:\n",
        "\n",
        "\n",
        "\n",
        "```\n",
        "lambda [arg1, arg2....]:expresion\n",
        "```\n",
        "\n",
        "\n"
      ]
    },
    {
      "cell_type": "code",
      "metadata": {
        "id": "MpN3o1A2cZiX",
        "colab": {
          "base_uri": "https://localhost:8080/"
        },
        "outputId": "5d1c7f7f-96fd-46b2-e6c9-7290dc96d448"
      },
      "source": [
        "# Normal funcion\n",
        "\n",
        "def cube(x):\n",
        "  return x*x*x\n",
        "\n",
        "res = cube(7)\n",
        "print(res)\n",
        "\n",
        "# Lambda function\n",
        "cub = lambda x: x*x*x\n",
        "res = cub(7)\n",
        "print(res)\n",
        "\n",
        "# Filter function\n",
        "li = [5, 7, 22, 97, 54, 62, 77, 23, 73, 61] \n",
        "def filter_list(lis):\n",
        "  new_list = []\n",
        "  for element in lis:\n",
        "    if(element%2 != 0):\n",
        "      new_list.append(element)\n",
        "  return new_list\n",
        "\n",
        "li_filtered = filter_list(li)\n",
        "print(li_filtered)\n",
        "\n",
        "# Filter map\n",
        "li = [5, 7, 22, 97, 54, 62, 77, 23, 73, 61] \n",
        "li_filtered = list(filter(lambda x: (x%2 != 0), li)) # return lazy iterator convert to list\n",
        "print(li_filtered)"
      ],
      "execution_count": null,
      "outputs": [
        {
          "output_type": "stream",
          "name": "stdout",
          "text": [
            "343\n",
            "343\n",
            "[5, 7, 97, 77, 23, 73, 61]\n",
            "[5, 7, 97, 77, 23, 73, 61]\n"
          ]
        }
      ]
    },
    {
      "cell_type": "markdown",
      "metadata": {
        "id": "1JbAE6Zkh39x"
      },
      "source": [
        "# Python Orientado a Objetos\n",
        "\n",
        "\n",
        "\n",
        "\n",
        "\n"
      ]
    },
    {
      "cell_type": "markdown",
      "metadata": {
        "id": "VkrKnJlyWXlr"
      },
      "source": [
        "Podemos decir que en la Orientación a Objetos estructuramos **variables** y **funciones** en unidades lógicas, lo que llamaremos objetos. Estas **variables** son lo que hemos llamado **atributos** y las **funciones** serán los **métodos**.\n",
        "\n",
        "Un ejemplo de objeto sería un coche. Un coche tiene **atributos** importantes como el color, el modelo, el año y el tipo de gasolina. Además podemos interactuar con el objeto mediante sus **métodos** como arrancar, o acelerar.\n",
        "\n",
        "![alt text](https://res.cloudinary.com/practicaldev/image/fetch/s--O6de3Ai---/c_limit%2Cf_auto%2Cfl_progressive%2Cq_auto%2Cw_880/https://thepracticaldev.s3.amazonaws.com/i/k83oolqy85mixbnqra2w.PNG)\n",
        "\n",
        "Aunque sea sorprendente, ya hemos usado múltiples objetos en Python, por ejemplo las listas. Las listas tienen **métodos** como append(), clear() o copy() y se organizan en unidades lógicas con una función. \n",
        "\n"
      ]
    },
    {
      "cell_type": "markdown",
      "metadata": {
        "id": "s4vkeGH5Xowp"
      },
      "source": [
        "La orientación a objetos está sustentada por cuatro pilares fundamentales:\n",
        "\n",
        "\n",
        "*   **Encapsulación** --> Agrupación de varios métodos y atributos en un objeto.\n",
        "*   **Abstracción** --> Capacidad de ocultar la complejidad de una implementación.\n",
        "*   **Herencia** --> Mecanismo para eliminar información redundante pudiendo compartir características.\n",
        "*   **Polimorfismo** --> Literalmente significa muchas formas, capacidad de que cambie el comportamiento de un objeto dependiendo del tipo de dato de entrada."
      ]
    },
    {
      "cell_type": "markdown",
      "metadata": {
        "id": "CuJ4aaF8MdZf"
      },
      "source": [
        "## Clases"
      ]
    },
    {
      "cell_type": "markdown",
      "metadata": {
        "id": "Jh589It8mvgM"
      },
      "source": [
        "Son \"prototipos\" definidos por el programador que sirven como modelo para los atributos y los métodos de un objeto. Se podría hacer una analogía con las recetas de un plato. Con las clases podemos definir qué valores tendrá el objeto y qué podrá hacer.\n",
        "\n",
        "Para crear una clase solo necesitamos declarar la palabra reservada *class* y definir la clase interna:\n",
        "\n",
        "\n",
        "\n",
        "```\n",
        "class NewClass(object):\n",
        "    # Documentation\n",
        "    class_body\n",
        "```\n",
        "\n",
        "Así podremos ver un ejemplo de clase completo con un coche:\n"
      ]
    },
    {
      "cell_type": "code",
      "metadata": {
        "id": "ysh-6mHvowU2"
      },
      "source": [
        "class Car(object):\n",
        "  'Common class for a car object'\n",
        "  total_cars = 0 #secuencial number\n",
        "  \n",
        "  # Declaration\n",
        "  def __init__(self, model, color, id=\"2342FSD\", height=2):\n",
        "    self.model = model\n",
        "    self.color = color\n",
        "    self.id = id\n",
        "    self.height = height\n",
        "    Car.total_cars += 1\n",
        "    \n",
        "  def get_model(self):\n",
        "    return self.model\n",
        "  \n",
        "  def print_model(self):\n",
        "    print(f\"The car is {self.model}\")\n",
        "    \n",
        "  def print_total_cars(self):\n",
        "    print(f\"Total amount of cars: {Car.total_cars}\")\n",
        "    \n",
        "  def print_color(self):\n",
        "    print(f\"The color of the car is {self.color}\")\n",
        "    \n",
        "  def start(self):\n",
        "    print(\"Engine running\")\n"
      ],
      "execution_count": null,
      "outputs": []
    },
    {
      "cell_type": "markdown",
      "metadata": {
        "id": "xVZJinPsppEv"
      },
      "source": [
        "Aquí podemos ver tres elementos importantes:\n",
        "\n",
        "\n",
        "\n",
        "*   La variable *total_cars* es una variable compartida por todas las instancias de la clase, puede acceder estáticamente a través de una instancia *ClassName.variable*, en este caso *Car.serial_number*\n",
        "*   El primer método *\\_\\_init__()* es un método especial reservado a la inicialización del objeto, llamado **constructor**. Este es llamado cuando se instancia un objeto.\n",
        "*    Se declaran los atributos y los métodos, que son proipos de cada instancia. Para ello se usa la palabra reservada *self* tanto como primer argumento de un método como para referenciar a un atributo.\n",
        "\n"
      ]
    },
    {
      "cell_type": "markdown",
      "metadata": {
        "id": "0_EoHd95z5Pw"
      },
      "source": [
        "## Objetos"
      ]
    },
    {
      "cell_type": "markdown",
      "metadata": {
        "id": "eqyjOfQMka5p"
      },
      "source": [
        "Un objeto es una instancia de una estructura de datos definida en una clase. Un objeto se compone tanto de **atributos** de clase como de métodos.\n",
        "\n",
        "Para crear una instancia de una clase, solo hay que asignar a una variable la llamada al constructor de una clase y pasar los argumentos que acepta el constructor *\\_\\_init__*\n",
        "\n",
        "En Python la instanciación de un objeto sería de la siguiente forma:\n",
        "\n",
        "\n",
        "\n",
        "```\n",
        "inst_object = NewClass(attribute)\n",
        "```\n",
        "\n"
      ]
    },
    {
      "cell_type": "code",
      "metadata": {
        "id": "L_xanQbplEd1"
      },
      "source": [
        "# Objetc instantiation\n",
        "\n",
        "opel_car = Car(\"opel\", \"red\", \"67458IUK\")\n",
        "\n",
        "default_car = Car(\"test\", \"red\")\n",
        "\n",
        "mercedes_car = Car(\"mercedes\", \"blue\", \"2342IOS\")\n",
        "\n",
        "tesla_car = Car(\"tesla\", \"grey\", \"1234ABC\")\n",
        "\n",
        "patata_car = Car(\"patta\", \"grey\", \"asdfasf\")\n",
        "\n",
        "\n",
        "#fail_car = Car()"
      ],
      "execution_count": null,
      "outputs": []
    },
    {
      "cell_type": "markdown",
      "metadata": {
        "id": "iQaVuL1u0AaT"
      },
      "source": [
        "## Atributos"
      ]
    },
    {
      "cell_type": "markdown",
      "metadata": {
        "id": "rDSB0uwMne09"
      },
      "source": [
        "Una vez instanciado el objeto, podremos acceder a sus atributos y métodos, para ello usaremos la notación de python (que ya conocemos bastante bien) con la llamada a la variable, seguida de un punto y el nombre del atribtuo o método.\n",
        "\n",
        "\n",
        "\n",
        "```\n",
        "isnt_object.attribute\n",
        "inst_object.method()\n",
        "```\n",
        "\n",
        "Así vemos como acceder a los atributos de nuestros objetos ya instanciados:\n"
      ]
    },
    {
      "cell_type": "code",
      "metadata": {
        "id": "ULqTzjoGn2eA",
        "colab": {
          "base_uri": "https://localhost:8080/"
        },
        "outputId": "4fed9e7d-a055-43f9-b1cf-88b9dc26b243"
      },
      "source": [
        "# method call\n",
        "opel_car.print_model()\n",
        "\n",
        "# attribute_call\n",
        "print(mercedes_car.color)\n",
        "\n",
        "print(tesla_car.id)"
      ],
      "execution_count": null,
      "outputs": [
        {
          "output_type": "stream",
          "name": "stdout",
          "text": [
            "The car is opel\n",
            "blue\n",
            "2342FSD\n"
          ]
        }
      ]
    },
    {
      "cell_type": "markdown",
      "metadata": {
        "id": "U61PU9FLoCYi"
      },
      "source": [
        "En las llamadas a métodos, pese a que tenga como primer argumento *self* no es necesario declararlo, ya que como comentamos es una palabra reservada de Python para declarar una función como un método de clase.\n",
        "\n",
        "Por otro lado, podremos modificar atributos de clase normalmente:"
      ]
    },
    {
      "cell_type": "code",
      "metadata": {
        "id": "aQpOIJsDobEs",
        "colab": {
          "base_uri": "https://localhost:8080/"
        },
        "outputId": "2337c60d-d58b-4f91-9eb8-39d8ad2f7558"
      },
      "source": [
        "opel_car.color = \"green\"\n",
        "opel_car.print_color()\n"
      ],
      "execution_count": null,
      "outputs": [
        {
          "output_type": "stream",
          "name": "stdout",
          "text": [
            "The color of the car is green\n"
          ]
        }
      ]
    },
    {
      "cell_type": "markdown",
      "metadata": {
        "id": "z9HIlh9C0FBl"
      },
      "source": [
        "## Herencia"
      ]
    },
    {
      "cell_type": "markdown",
      "metadata": {
        "id": "h8jT6iZdrVfU"
      },
      "source": [
        "Para evitar la repetición de código de clases que puedan ser similares o compartan características en común, podemos derivar una clase de otra, haciendo que compartan tanto *atributos* como *métodos*.\n",
        "\n",
        "La clase hija \"hereda\" toda esto y lo puede utilizar según su conveniencia, adaptando valores para el propósito de la clase.\n",
        "\n",
        "\n"
      ]
    },
    {
      "cell_type": "code",
      "metadata": {
        "id": "4dK7hiOxsDbm"
      },
      "source": [
        "class Vehicle(object):\n",
        "  \n",
        "  def __init__(self):\n",
        "    self.number_wheels = 0\n",
        "    self.model = \"\"\n",
        "    self.color = \"\"\n",
        "  \n",
        "  def print_model(self):\n",
        "    print(f\"Model of the vehicle is: {self.model}\")\n",
        "  \n",
        "  def print_number_wheels(self):\n",
        "    print(f\"Number of wheels: {self.number_wheels}\")\n",
        "  \n",
        "  def print_color(self):\n",
        "    print(f\"Color: {self.color}\")\n",
        "\n",
        "class Bike(Vehicle):\n",
        "  \n",
        "  def __init__(self, model, color):\n",
        "    self.number_wheels = 2\n",
        "    self.model = model\n",
        "    self.color = color\n",
        "    \n",
        "class Car(Vehicle):\n",
        "  \n",
        "  def __init__(self, model, color):\n",
        "    self.number_wheels = 4\n",
        "    self.model = model\n",
        "    self.color = color"
      ],
      "execution_count": null,
      "outputs": []
    },
    {
      "cell_type": "code",
      "metadata": {
        "id": "lrckd7IktUCV",
        "colab": {
          "base_uri": "https://localhost:8080/"
        },
        "outputId": "1f52ce59-0757-406f-8840-31dac7bd0f4a"
      },
      "source": [
        "bike = Bike(\"Yamaha\", \"black\")\n",
        "bike.print_model()\n",
        "bike.print_number_wheels()\n",
        "bike.print_color()\n",
        "\n",
        "car = Car(\"Opel\", \"red\")\n",
        "car.print_model()\n",
        "car.print_number_wheels()\n",
        "car.print_color()"
      ],
      "execution_count": null,
      "outputs": [
        {
          "output_type": "stream",
          "name": "stdout",
          "text": [
            "Model of the vehicle is: Yamaha\n",
            "Number of wheels: 2\n",
            "Color: black\n",
            "Model of the vehicle is: Opel\n",
            "Number of wheels: 4\n",
            "Color: red\n"
          ]
        }
      ]
    },
    {
      "cell_type": "markdown",
      "metadata": {
        "id": "3DDV303CMYQw"
      },
      "source": [
        "# I/O"
      ]
    },
    {
      "cell_type": "markdown",
      "metadata": {
        "id": "xhu5jOf4XvED"
      },
      "source": [
        "**Print**\n",
        "\n"
      ]
    },
    {
      "cell_type": "code",
      "metadata": {
        "id": "cGF4Wx5RYKQB",
        "colab": {
          "base_uri": "https://localhost:8080/"
        },
        "outputId": "38de2d2c-283b-4c5b-984d-d0c0264e6950"
      },
      "source": [
        "print(\"Hello World\")\n",
        "test = \"Other\"\n",
        "print(test)"
      ],
      "execution_count": null,
      "outputs": [
        {
          "output_type": "stream",
          "name": "stdout",
          "text": [
            "Hello World\n",
            "Other\n"
          ]
        }
      ]
    },
    {
      "cell_type": "markdown",
      "metadata": {
        "id": "NHKs7z92YPpm"
      },
      "source": [
        "**Input**\n",
        "\n"
      ]
    },
    {
      "cell_type": "code",
      "metadata": {
        "id": "lm-16QdvYsd3",
        "colab": {
          "base_uri": "https://localhost:8080/"
        },
        "outputId": "470bda4c-9e4f-40f0-e4f8-c61fb90e4eaa"
      },
      "source": [
        "name = input(\"Say your name:\")\n",
        "\n",
        "print(f\"Hello, {name}\")"
      ],
      "execution_count": null,
      "outputs": [
        {
          "output_type": "stream",
          "name": "stdout",
          "text": [
            "Say your name:fasdfadsf\n",
            "Hello, fasdfadsf\n"
          ]
        }
      ]
    },
    {
      "cell_type": "markdown",
      "metadata": {
        "id": "ygvGWnN0ZXqw"
      },
      "source": [
        "**Open**\n",
        "\n",
        "La función open permite abrir determinados archivos, su sintaxis es la siguiente:\n",
        "\n",
        "\n",
        "\n",
        "```\n",
        "> f = open('workfile', [flag])\n",
        "```\n",
        "\n",
        "\n",
        "\n",
        "\n",
        "\n",
        "\n",
        "\n"
      ]
    },
    {
      "cell_type": "markdown",
      "metadata": {
        "id": "gDGnS3Y3bw0h"
      },
      "source": [
        "**File**\n",
        "\n",
        "La función **open** nos devuelve un objeto de tipo **file**. Con este objeto podremos realizar las siguientes operaciones:\n",
        "\n",
        "\n",
        "\n",
        "*   **file.closed** -> Nos devuelve si el archivo está cerrado.\n",
        "*   **file.mode** -> Nos indica el tipo de acceso.\n",
        "*   **file.name** -> Devuelve el nombre del archivo.\n",
        "*   **file.close()** -> Función que cierra y el archivo y serializa los cambios.\n",
        "\n"
      ]
    },
    {
      "cell_type": "markdown",
      "metadata": {
        "id": "hMUXgDXBjDy3"
      },
      "source": [
        "**CSV**\n",
        "\n",
        "Uno de los formatos más comúnes dentro del mundo de Data Science es organizar los datos en CSV delimitados, para ello hay que usar la función **open** y hacer un cast a **csvfile** y llamar al lector de csv, como en el siguiente ejemplo:\n",
        "\n",
        "\n",
        "\n",
        "```\n",
        "import csv\n",
        "\n",
        "with open('data.csv') as csvfile:\n",
        "        reader = csv.DictReader(csvfile, delimiter=';')\n",
        "        for row in reader:\n",
        "```\n",
        "\n"
      ]
    },
    {
      "cell_type": "markdown",
      "metadata": {
        "id": "lBZP_wzqMZ0g"
      },
      "source": [
        "# Excepciones"
      ]
    },
    {
      "cell_type": "markdown",
      "metadata": {
        "id": "YZzbustvjBNe"
      },
      "source": [
        "Los tipos de excepciones que podemos encontrar son enormes y están recogidos en la [documentación oficial de Python](https://docs.python.org/3.7/library/exceptions.html).\n",
        "\n",
        "La sintaxis para el tratamiento de errores es la siguiente:\n",
        "\n",
        "\n",
        "\n",
        "```\n",
        "try:\n",
        "    Aquí va el código que queremos controlar, siempre identado...\n",
        "    .......\n",
        "    .......\n",
        "except Exception1 as e:\n",
        "    Aquí tratar la excepción 1 que hemos renombrado a \"e\"\n",
        "except Exception2:\n",
        "    Puede ocurrir otro tipo de excepción\n",
        "    .........\n",
        "    .........\n",
        "else:\n",
        "    Este bloque se ejecuta si no ha habido errores.\n",
        "    \n",
        "```\n",
        "\n",
        "\n"
      ]
    },
    {
      "cell_type": "code",
      "metadata": {
        "id": "QjT_7ntbnJZW",
        "colab": {
          "base_uri": "https://localhost:8080/"
        },
        "outputId": "2e11ab4a-94a1-4d9a-d095-39baef0591a2"
      },
      "source": [
        "dict_test = {\"hello\": \"hello\", \"world\": \"world\"}\n",
        "\n",
        "try:\n",
        "  test = dict_test[\"other\"]\n",
        "except KeyError as e:\n",
        "  print(e)\n",
        "  test = \"Not found\"\n",
        "  \n",
        "print(f\"We reach this part of the program with {test}\")"
      ],
      "execution_count": null,
      "outputs": [
        {
          "output_type": "stream",
          "name": "stdout",
          "text": [
            "'other'\n",
            "We reach this part of the program with Not found\n"
          ]
        }
      ]
    },
    {
      "cell_type": "markdown",
      "metadata": {
        "id": "odTsb_9-MWgx"
      },
      "source": [
        "# Gestión de módulos"
      ]
    },
    {
      "cell_type": "markdown",
      "metadata": {
        "id": "VpeEpgUOfRyt"
      },
      "source": [
        "Un módulo es un fichero Python donde se pueden definir funciones, clases y variables que puedes referenciar y añadir a otro código.\n",
        "\n",
        "Este código puede importarse usando la palabra reservada **import** o **from** con el siguiente formato:\n",
        "\n",
        "\n",
        "\n",
        "```\n",
        "import module1, module2.....\n",
        "from module1 import [reference]\n",
        "```\n",
        "\n"
      ]
    },
    {
      "cell_type": "code",
      "metadata": {
        "id": "RbUgf9eMZtIG",
        "colab": {
          "base_uri": "https://localhost:8080/"
        },
        "outputId": "789e0ad5-d5f9-46a3-b119-eaa551ccdb7e"
      },
      "source": [
        "# Import module\n",
        "import time\n",
        "\n",
        "# call module by callint it's name\n",
        "seconds = time.time()\n",
        "\n",
        "print(seconds)"
      ],
      "execution_count": null,
      "outputs": [
        {
          "output_type": "stream",
          "name": "stdout",
          "text": [
            "1669923592.5965004\n"
          ]
        }
      ]
    },
    {
      "cell_type": "markdown",
      "metadata": {
        "id": "moQvhonJaVKj"
      },
      "source": [
        "Por otro lado, con la notación **from ... import** podemos importar atributos específicos de un módulo al *namespace* actual."
      ]
    },
    {
      "cell_type": "code",
      "metadata": {
        "id": "7hLPdqafahN4",
        "colab": {
          "base_uri": "https://localhost:8080/"
        },
        "outputId": "d4f694d4-8859-4f59-96ec-2d5411fb766e"
      },
      "source": [
        "from time import time\n",
        "\n",
        "seconds = time()\n",
        "\n",
        "print(seconds)"
      ],
      "execution_count": null,
      "outputs": [
        {
          "output_type": "stream",
          "name": "stdout",
          "text": [
            "1638388300.5694118\n"
          ]
        }
      ]
    },
    {
      "cell_type": "markdown",
      "metadata": {
        "id": "rt9pnufaGv-M"
      },
      "source": [
        "[Aquí](https://docs.python.org/3/tutorial/modules.html) podéis encontrar más información acerca de módulos."
      ]
    },
    {
      "cell_type": "markdown",
      "metadata": {
        "id": "JjzXMluE2NHy"
      },
      "source": [
        "## Gestión de Paquetes"
      ]
    },
    {
      "cell_type": "markdown",
      "metadata": {
        "id": "ATdat7qB2Qfi"
      },
      "source": [
        "Muchos módulos pueden empaquetarse en un conjunto de ficheros que aportan determinada utilidad. Estos módulos pueden gestionarse en nuestro proyecto a través de un **gestor de paquetes**.\n",
        "\n",
        "[Pip](https://pypi.org/project/pip/) es el gestor de paquetes más popular de Python y permite instalar rápidamente módulos que necesitemos.\n",
        "\n",
        "Los módulos publicados en pip se pueden encontrar en [PyPI](https://pypi.org/), donde se puede encontrar información relativa a un paquete como el historial, referencia al código, licencias...\n",
        "\n",
        "Para instalar un paquete, solo tenemos que ejecutar:"
      ]
    },
    {
      "cell_type": "code",
      "metadata": {
        "id": "elq-HHik2Pkq",
        "colab": {
          "base_uri": "https://localhost:8080/"
        },
        "outputId": "ed97726a-5470-4eff-af7f-2b7e30d2a11d"
      },
      "source": [
        "!pip install numpy"
      ],
      "execution_count": null,
      "outputs": [
        {
          "output_type": "stream",
          "name": "stdout",
          "text": [
            "Requirement already satisfied: numpy in /usr/local/lib/python3.7/dist-packages (1.19.5)\n"
          ]
        }
      ]
    },
    {
      "cell_type": "code",
      "metadata": {
        "id": "XgG-C6m-Kkak",
        "colab": {
          "base_uri": "https://localhost:8080/"
        },
        "outputId": "71b54865-9e70-4ee3-ce2e-5afe907ce7dd"
      },
      "source": [
        "import numpy\n",
        "\n",
        "print(numpy.__version__)"
      ],
      "execution_count": null,
      "outputs": [
        {
          "output_type": "stream",
          "name": "stdout",
          "text": [
            "1.19.5\n"
          ]
        }
      ]
    },
    {
      "cell_type": "markdown",
      "metadata": {
        "id": "NUYjlTtFMnuw"
      },
      "source": [
        "# Librerías de Tratamiento de Datos"
      ]
    },
    {
      "cell_type": "markdown",
      "metadata": {
        "id": "HGH7CsuFtn4O"
      },
      "source": [
        "\n",
        "\n",
        "*   [Numpy](https://www.numpy.org/) -> Librería destinada a la manipulación de matrices, especialmente dentro de operaciones matemáticas.\n",
        "*   [SciPy](https://www.scipy.org/) -> Otra librería de Python orientada a computación técnica y científica.\n",
        "*   [Matplotlib](https://matplotlib.org/) -> Muy útil para visualización de datos.\n",
        "*   [Pandas](https://pandas.pydata.org/) -> Especializada en manipulación de datos y posterior análisis.\n",
        "*   [Scikit-Learn](https://scikit-learn.org/stable/) -> Paquete de Python diseñado para dar acceso a algoritmos de Aprendizaje Automático bien conocidos dentro del código Python, a través de una API limpia y bien pensada. Ha sido construido por cientos de colaboradores de todo el mundo y se usa en la industria y el mundo académico.\n",
        "Scikit-Learn esá basada en las librerías **NumPy** (Numerical Python) y **SciPy** (Scientific Python), que permiten la computación numérica y científica eficiente en Python.\n",
        "\n",
        "\n"
      ]
    },
    {
      "cell_type": "markdown",
      "source": [
        "## Tratamiento de datos"
      ],
      "metadata": {
        "id": "4B8fo5O0xiCB"
      }
    },
    {
      "cell_type": "markdown",
      "source": [
        "Vamos a ver como procesar en Colab csv, utilizando una de las librerías antes mencionadas.\n",
        "\n",
        "Para ello vamos a usar el dataset de [abalones](https://es.wikipedia.org/wiki/Haliotis) de la [uci](https://archive.ics.uci.edu/ml/datasets/abalone).\n",
        "\n",
        "Para ello, descargar el archivo **Abalones** de la carpeta principal.\n",
        "\n",
        "Para importar los archivos, vamos a utilizar la librería `google.colab`, que permite controlar aspectos del cuaderno, para forzar la carga de archivos. Posteriormente con la librería `io` serializaremos estos datos.\n",
        "\n",
        "En un código ejecutado en una máquina este paso no sería necesario, podríamos usar `pd.read_csv` en la carpeta donde se encontrase nuestro archivo."
      ],
      "metadata": {
        "id": "LQYfAw432MNb"
      }
    },
    {
      "cell_type": "code",
      "source": [
        "import pandas as pd\n",
        "from google.colab import files\n",
        "import io\n",
        "\n",
        "uploaded = files.upload()\n",
        "abalone_train = pd.read_csv(io.BytesIO(uploaded['abalone_train.csv']), names=[\"Length\", \"Diameter\", \"Height\", \"Whole weight\", \"Shucked weight\",\n",
        "           \"Viscera weight\", \"Shell weight\", \"Age\"])\n",
        "\n",
        "abalone_train.head()"
      ],
      "metadata": {
        "colab": {
          "base_uri": "https://localhost:8080/",
          "height": 270
        },
        "id": "aFFn8U94xWIS",
        "outputId": "206ce1ca-9659-4885-ce2d-9ece6d18a181"
      },
      "execution_count": null,
      "outputs": [
        {
          "output_type": "display_data",
          "data": {
            "text/plain": [
              "<IPython.core.display.HTML object>"
            ],
            "text/html": [
              "\n",
              "     <input type=\"file\" id=\"files-c44c7e00-1d3f-42ff-88ba-9c4c2c3cbbeb\" name=\"files[]\" multiple disabled\n",
              "        style=\"border:none\" />\n",
              "     <output id=\"result-c44c7e00-1d3f-42ff-88ba-9c4c2c3cbbeb\">\n",
              "      Upload widget is only available when the cell has been executed in the\n",
              "      current browser session. Please rerun this cell to enable.\n",
              "      </output>\n",
              "      <script>// Copyright 2017 Google LLC\n",
              "//\n",
              "// Licensed under the Apache License, Version 2.0 (the \"License\");\n",
              "// you may not use this file except in compliance with the License.\n",
              "// You may obtain a copy of the License at\n",
              "//\n",
              "//      http://www.apache.org/licenses/LICENSE-2.0\n",
              "//\n",
              "// Unless required by applicable law or agreed to in writing, software\n",
              "// distributed under the License is distributed on an \"AS IS\" BASIS,\n",
              "// WITHOUT WARRANTIES OR CONDITIONS OF ANY KIND, either express or implied.\n",
              "// See the License for the specific language governing permissions and\n",
              "// limitations under the License.\n",
              "\n",
              "/**\n",
              " * @fileoverview Helpers for google.colab Python module.\n",
              " */\n",
              "(function(scope) {\n",
              "function span(text, styleAttributes = {}) {\n",
              "  const element = document.createElement('span');\n",
              "  element.textContent = text;\n",
              "  for (const key of Object.keys(styleAttributes)) {\n",
              "    element.style[key] = styleAttributes[key];\n",
              "  }\n",
              "  return element;\n",
              "}\n",
              "\n",
              "// Max number of bytes which will be uploaded at a time.\n",
              "const MAX_PAYLOAD_SIZE = 100 * 1024;\n",
              "\n",
              "function _uploadFiles(inputId, outputId) {\n",
              "  const steps = uploadFilesStep(inputId, outputId);\n",
              "  const outputElement = document.getElementById(outputId);\n",
              "  // Cache steps on the outputElement to make it available for the next call\n",
              "  // to uploadFilesContinue from Python.\n",
              "  outputElement.steps = steps;\n",
              "\n",
              "  return _uploadFilesContinue(outputId);\n",
              "}\n",
              "\n",
              "// This is roughly an async generator (not supported in the browser yet),\n",
              "// where there are multiple asynchronous steps and the Python side is going\n",
              "// to poll for completion of each step.\n",
              "// This uses a Promise to block the python side on completion of each step,\n",
              "// then passes the result of the previous step as the input to the next step.\n",
              "function _uploadFilesContinue(outputId) {\n",
              "  const outputElement = document.getElementById(outputId);\n",
              "  const steps = outputElement.steps;\n",
              "\n",
              "  const next = steps.next(outputElement.lastPromiseValue);\n",
              "  return Promise.resolve(next.value.promise).then((value) => {\n",
              "    // Cache the last promise value to make it available to the next\n",
              "    // step of the generator.\n",
              "    outputElement.lastPromiseValue = value;\n",
              "    return next.value.response;\n",
              "  });\n",
              "}\n",
              "\n",
              "/**\n",
              " * Generator function which is called between each async step of the upload\n",
              " * process.\n",
              " * @param {string} inputId Element ID of the input file picker element.\n",
              " * @param {string} outputId Element ID of the output display.\n",
              " * @return {!Iterable<!Object>} Iterable of next steps.\n",
              " */\n",
              "function* uploadFilesStep(inputId, outputId) {\n",
              "  const inputElement = document.getElementById(inputId);\n",
              "  inputElement.disabled = false;\n",
              "\n",
              "  const outputElement = document.getElementById(outputId);\n",
              "  outputElement.innerHTML = '';\n",
              "\n",
              "  const pickedPromise = new Promise((resolve) => {\n",
              "    inputElement.addEventListener('change', (e) => {\n",
              "      resolve(e.target.files);\n",
              "    });\n",
              "  });\n",
              "\n",
              "  const cancel = document.createElement('button');\n",
              "  inputElement.parentElement.appendChild(cancel);\n",
              "  cancel.textContent = 'Cancel upload';\n",
              "  const cancelPromise = new Promise((resolve) => {\n",
              "    cancel.onclick = () => {\n",
              "      resolve(null);\n",
              "    };\n",
              "  });\n",
              "\n",
              "  // Wait for the user to pick the files.\n",
              "  const files = yield {\n",
              "    promise: Promise.race([pickedPromise, cancelPromise]),\n",
              "    response: {\n",
              "      action: 'starting',\n",
              "    }\n",
              "  };\n",
              "\n",
              "  cancel.remove();\n",
              "\n",
              "  // Disable the input element since further picks are not allowed.\n",
              "  inputElement.disabled = true;\n",
              "\n",
              "  if (!files) {\n",
              "    return {\n",
              "      response: {\n",
              "        action: 'complete',\n",
              "      }\n",
              "    };\n",
              "  }\n",
              "\n",
              "  for (const file of files) {\n",
              "    const li = document.createElement('li');\n",
              "    li.append(span(file.name, {fontWeight: 'bold'}));\n",
              "    li.append(span(\n",
              "        `(${file.type || 'n/a'}) - ${file.size} bytes, ` +\n",
              "        `last modified: ${\n",
              "            file.lastModifiedDate ? file.lastModifiedDate.toLocaleDateString() :\n",
              "                                    'n/a'} - `));\n",
              "    const percent = span('0% done');\n",
              "    li.appendChild(percent);\n",
              "\n",
              "    outputElement.appendChild(li);\n",
              "\n",
              "    const fileDataPromise = new Promise((resolve) => {\n",
              "      const reader = new FileReader();\n",
              "      reader.onload = (e) => {\n",
              "        resolve(e.target.result);\n",
              "      };\n",
              "      reader.readAsArrayBuffer(file);\n",
              "    });\n",
              "    // Wait for the data to be ready.\n",
              "    let fileData = yield {\n",
              "      promise: fileDataPromise,\n",
              "      response: {\n",
              "        action: 'continue',\n",
              "      }\n",
              "    };\n",
              "\n",
              "    // Use a chunked sending to avoid message size limits. See b/62115660.\n",
              "    let position = 0;\n",
              "    do {\n",
              "      const length = Math.min(fileData.byteLength - position, MAX_PAYLOAD_SIZE);\n",
              "      const chunk = new Uint8Array(fileData, position, length);\n",
              "      position += length;\n",
              "\n",
              "      const base64 = btoa(String.fromCharCode.apply(null, chunk));\n",
              "      yield {\n",
              "        response: {\n",
              "          action: 'append',\n",
              "          file: file.name,\n",
              "          data: base64,\n",
              "        },\n",
              "      };\n",
              "\n",
              "      let percentDone = fileData.byteLength === 0 ?\n",
              "          100 :\n",
              "          Math.round((position / fileData.byteLength) * 100);\n",
              "      percent.textContent = `${percentDone}% done`;\n",
              "\n",
              "    } while (position < fileData.byteLength);\n",
              "  }\n",
              "\n",
              "  // All done.\n",
              "  yield {\n",
              "    response: {\n",
              "      action: 'complete',\n",
              "    }\n",
              "  };\n",
              "}\n",
              "\n",
              "scope.google = scope.google || {};\n",
              "scope.google.colab = scope.google.colab || {};\n",
              "scope.google.colab._files = {\n",
              "  _uploadFiles,\n",
              "  _uploadFilesContinue,\n",
              "};\n",
              "})(self);\n",
              "</script> "
            ]
          },
          "metadata": {}
        },
        {
          "output_type": "stream",
          "name": "stdout",
          "text": [
            "Saving abalone_train.csv to abalone_train.csv\n"
          ]
        },
        {
          "output_type": "execute_result",
          "data": {
            "text/plain": [
              "   Length  Diameter  Height  Whole weight  Shucked weight  Viscera weight  \\\n",
              "0   0.435     0.335   0.110         0.334          0.1355          0.0775   \n",
              "1   0.585     0.450   0.125         0.874          0.3545          0.2075   \n",
              "2   0.655     0.510   0.160         1.092          0.3960          0.2825   \n",
              "3   0.545     0.425   0.125         0.768          0.2940          0.1495   \n",
              "4   0.545     0.420   0.130         0.879          0.3740          0.1695   \n",
              "\n",
              "   Shell weight  Age  \n",
              "0        0.0965    7  \n",
              "1        0.2250    6  \n",
              "2        0.3700   14  \n",
              "3        0.2600   16  \n",
              "4        0.2300   13  "
            ],
            "text/html": [
              "\n",
              "  <div id=\"df-e6acc85a-16e2-4190-8832-0753c1e23506\">\n",
              "    <div class=\"colab-df-container\">\n",
              "      <div>\n",
              "<style scoped>\n",
              "    .dataframe tbody tr th:only-of-type {\n",
              "        vertical-align: middle;\n",
              "    }\n",
              "\n",
              "    .dataframe tbody tr th {\n",
              "        vertical-align: top;\n",
              "    }\n",
              "\n",
              "    .dataframe thead th {\n",
              "        text-align: right;\n",
              "    }\n",
              "</style>\n",
              "<table border=\"1\" class=\"dataframe\">\n",
              "  <thead>\n",
              "    <tr style=\"text-align: right;\">\n",
              "      <th></th>\n",
              "      <th>Length</th>\n",
              "      <th>Diameter</th>\n",
              "      <th>Height</th>\n",
              "      <th>Whole weight</th>\n",
              "      <th>Shucked weight</th>\n",
              "      <th>Viscera weight</th>\n",
              "      <th>Shell weight</th>\n",
              "      <th>Age</th>\n",
              "    </tr>\n",
              "  </thead>\n",
              "  <tbody>\n",
              "    <tr>\n",
              "      <th>0</th>\n",
              "      <td>0.435</td>\n",
              "      <td>0.335</td>\n",
              "      <td>0.110</td>\n",
              "      <td>0.334</td>\n",
              "      <td>0.1355</td>\n",
              "      <td>0.0775</td>\n",
              "      <td>0.0965</td>\n",
              "      <td>7</td>\n",
              "    </tr>\n",
              "    <tr>\n",
              "      <th>1</th>\n",
              "      <td>0.585</td>\n",
              "      <td>0.450</td>\n",
              "      <td>0.125</td>\n",
              "      <td>0.874</td>\n",
              "      <td>0.3545</td>\n",
              "      <td>0.2075</td>\n",
              "      <td>0.2250</td>\n",
              "      <td>6</td>\n",
              "    </tr>\n",
              "    <tr>\n",
              "      <th>2</th>\n",
              "      <td>0.655</td>\n",
              "      <td>0.510</td>\n",
              "      <td>0.160</td>\n",
              "      <td>1.092</td>\n",
              "      <td>0.3960</td>\n",
              "      <td>0.2825</td>\n",
              "      <td>0.3700</td>\n",
              "      <td>14</td>\n",
              "    </tr>\n",
              "    <tr>\n",
              "      <th>3</th>\n",
              "      <td>0.545</td>\n",
              "      <td>0.425</td>\n",
              "      <td>0.125</td>\n",
              "      <td>0.768</td>\n",
              "      <td>0.2940</td>\n",
              "      <td>0.1495</td>\n",
              "      <td>0.2600</td>\n",
              "      <td>16</td>\n",
              "    </tr>\n",
              "    <tr>\n",
              "      <th>4</th>\n",
              "      <td>0.545</td>\n",
              "      <td>0.420</td>\n",
              "      <td>0.130</td>\n",
              "      <td>0.879</td>\n",
              "      <td>0.3740</td>\n",
              "      <td>0.1695</td>\n",
              "      <td>0.2300</td>\n",
              "      <td>13</td>\n",
              "    </tr>\n",
              "  </tbody>\n",
              "</table>\n",
              "</div>\n",
              "      <button class=\"colab-df-convert\" onclick=\"convertToInteractive('df-e6acc85a-16e2-4190-8832-0753c1e23506')\"\n",
              "              title=\"Convert this dataframe to an interactive table.\"\n",
              "              style=\"display:none;\">\n",
              "        \n",
              "  <svg xmlns=\"http://www.w3.org/2000/svg\" height=\"24px\"viewBox=\"0 0 24 24\"\n",
              "       width=\"24px\">\n",
              "    <path d=\"M0 0h24v24H0V0z\" fill=\"none\"/>\n",
              "    <path d=\"M18.56 5.44l.94 2.06.94-2.06 2.06-.94-2.06-.94-.94-2.06-.94 2.06-2.06.94zm-11 1L8.5 8.5l.94-2.06 2.06-.94-2.06-.94L8.5 2.5l-.94 2.06-2.06.94zm10 10l.94 2.06.94-2.06 2.06-.94-2.06-.94-.94-2.06-.94 2.06-2.06.94z\"/><path d=\"M17.41 7.96l-1.37-1.37c-.4-.4-.92-.59-1.43-.59-.52 0-1.04.2-1.43.59L10.3 9.45l-7.72 7.72c-.78.78-.78 2.05 0 2.83L4 21.41c.39.39.9.59 1.41.59.51 0 1.02-.2 1.41-.59l7.78-7.78 2.81-2.81c.8-.78.8-2.07 0-2.86zM5.41 20L4 18.59l7.72-7.72 1.47 1.35L5.41 20z\"/>\n",
              "  </svg>\n",
              "      </button>\n",
              "      \n",
              "  <style>\n",
              "    .colab-df-container {\n",
              "      display:flex;\n",
              "      flex-wrap:wrap;\n",
              "      gap: 12px;\n",
              "    }\n",
              "\n",
              "    .colab-df-convert {\n",
              "      background-color: #E8F0FE;\n",
              "      border: none;\n",
              "      border-radius: 50%;\n",
              "      cursor: pointer;\n",
              "      display: none;\n",
              "      fill: #1967D2;\n",
              "      height: 32px;\n",
              "      padding: 0 0 0 0;\n",
              "      width: 32px;\n",
              "    }\n",
              "\n",
              "    .colab-df-convert:hover {\n",
              "      background-color: #E2EBFA;\n",
              "      box-shadow: 0px 1px 2px rgba(60, 64, 67, 0.3), 0px 1px 3px 1px rgba(60, 64, 67, 0.15);\n",
              "      fill: #174EA6;\n",
              "    }\n",
              "\n",
              "    [theme=dark] .colab-df-convert {\n",
              "      background-color: #3B4455;\n",
              "      fill: #D2E3FC;\n",
              "    }\n",
              "\n",
              "    [theme=dark] .colab-df-convert:hover {\n",
              "      background-color: #434B5C;\n",
              "      box-shadow: 0px 1px 3px 1px rgba(0, 0, 0, 0.15);\n",
              "      filter: drop-shadow(0px 1px 2px rgba(0, 0, 0, 0.3));\n",
              "      fill: #FFFFFF;\n",
              "    }\n",
              "  </style>\n",
              "\n",
              "      <script>\n",
              "        const buttonEl =\n",
              "          document.querySelector('#df-e6acc85a-16e2-4190-8832-0753c1e23506 button.colab-df-convert');\n",
              "        buttonEl.style.display =\n",
              "          google.colab.kernel.accessAllowed ? 'block' : 'none';\n",
              "\n",
              "        async function convertToInteractive(key) {\n",
              "          const element = document.querySelector('#df-e6acc85a-16e2-4190-8832-0753c1e23506');\n",
              "          const dataTable =\n",
              "            await google.colab.kernel.invokeFunction('convertToInteractive',\n",
              "                                                     [key], {});\n",
              "          if (!dataTable) return;\n",
              "\n",
              "          const docLinkHtml = 'Like what you see? Visit the ' +\n",
              "            '<a target=\"_blank\" href=https://colab.research.google.com/notebooks/data_table.ipynb>data table notebook</a>'\n",
              "            + ' to learn more about interactive tables.';\n",
              "          element.innerHTML = '';\n",
              "          dataTable['output_type'] = 'display_data';\n",
              "          await google.colab.output.renderOutput(dataTable, element);\n",
              "          const docLink = document.createElement('div');\n",
              "          docLink.innerHTML = docLinkHtml;\n",
              "          element.appendChild(docLink);\n",
              "        }\n",
              "      </script>\n",
              "    </div>\n",
              "  </div>\n",
              "  "
            ]
          },
          "metadata": {},
          "execution_count": 33
        }
      ]
    },
    {
      "cell_type": "markdown",
      "metadata": {
        "id": "YgaAsaymztLF"
      },
      "source": [
        "# Entornos virtuales"
      ]
    },
    {
      "cell_type": "markdown",
      "metadata": {
        "id": "cb_qMvSczyGc"
      },
      "source": [
        "**Máquinas Virtuales**\n",
        "\n",
        "Estos son los clientes para máquinas virtuales más famosos, algunos son exclusivos de un sistema operativo determinado, el más elemental y extendido es Virtualbox pero hay otros contenidentes muy interesantes:\n",
        "\n",
        "\n",
        "\n",
        "*   [Virtual Box](https://www.virtualbox.org/) - Más extendido y robusto, pero interfaz muy antigua y poco amigable\n",
        "*   [VMware Workstation](https://www.vmware.com/products/workstation-player/workstation-player-evaluation.html) - Alternativa muy popular a Virtual Box para Linux y Windows\n",
        "*   [VMware Fusion](https://www.vmware.com/products/fusion.html) - Versión de VMware para macOS\n",
        "*   [Parallels Desktop](https://www.parallels.com/eu/products/desktop/) - Solo macOS, muy optimizado\n",
        "*   [QEMU](https://www.qemu.org/) - Proyecto Open Source para virtualizar\n",
        "\n"
      ]
    },
    {
      "cell_type": "markdown",
      "metadata": {
        "id": "CkQOI6lx1jIy"
      },
      "source": [
        "**Contenedores**\n",
        "\n",
        "\n",
        "\n",
        "*   [Docker CE](https://docs.docker.com/install/) - Docker CE es la versión gratuita que cubre todas las necesidades indivuales sobre un contenedor.\n",
        "*   [Docker Compose](https://docs.docker.com/compose/install/) - Docker Compose es una herramienta para definir y orquestar la ejecución de múltiples aplicaciones Docker.\n",
        "*   [Kubernetes](https://kubernetes.io) - Kubernetes es un sistema que permite definir y orquestar la ejecución de múltiples contenedores (similar, pero con diferencias entre Docker Swarm).\n"
      ]
    }
  ]
}